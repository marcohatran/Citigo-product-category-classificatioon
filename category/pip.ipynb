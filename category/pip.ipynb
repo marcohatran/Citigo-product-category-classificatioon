{
  "cells": [
    {
      "metadata": {
        "trusted": true
      },
      "cell_type": "code",
      "source": "!pip install pyvi",
      "execution_count": 1,
      "outputs": [
        {
          "output_type": "stream",
          "text": "Collecting pyvi\n\u001b[?25l  Downloading https://files.pythonhosted.org/packages/31/73/89be26d66c71f3bcca1de13bb73a9d622fabe282b55e518d68e86081d4e6/pyvi-0.0.9.7-py2.py3-none-any.whl (8.7MB)\n\u001b[K     |████████████████████████████████| 8.8MB 34kB/s  eta 0:00:01��██████████████████▌        | 6.4MB 1.1MB/s eta 0:00:03\n\u001b[?25hRequirement already satisfied: scikit-learn in /home/nbuser/anaconda3_501/lib/python3.6/site-packages (from pyvi) (0.20.3)\nCollecting sklearn-crfsuite (from pyvi)\n  Downloading https://files.pythonhosted.org/packages/25/74/5b7befa513482e6dee1f3dd68171a6c9dfc14c0eaa00f885ffeba54fe9b0/sklearn_crfsuite-0.3.6-py2.py3-none-any.whl\nRequirement already satisfied: numpy>=1.8.2 in /home/nbuser/anaconda3_501/lib/python3.6/site-packages (from scikit-learn->pyvi) (1.16.2)\nRequirement already satisfied: scipy>=0.13.3 in /home/nbuser/anaconda3_501/lib/python3.6/site-packages (from scikit-learn->pyvi) (1.1.0)\nRequirement already satisfied: six in /home/nbuser/anaconda3_501/lib/python3.6/site-packages (from sklearn-crfsuite->pyvi) (1.11.0)\nRequirement already satisfied: tabulate in /home/nbuser/anaconda3_501/lib/python3.6/site-packages (from sklearn-crfsuite->pyvi) (0.8.2)\nCollecting python-crfsuite>=0.8.3 (from sklearn-crfsuite->pyvi)\n\u001b[?25l  Downloading https://files.pythonhosted.org/packages/2f/86/cfcd71edca9d25d3d331209a20f6314b6f3f134c29478f90559cee9ce091/python_crfsuite-0.9.6-cp36-cp36m-manylinux1_x86_64.whl (754kB)\n\u001b[K     |████████████████████████████████| 757kB 8.4MB/s eta 0:00:01\n\u001b[?25hRequirement already satisfied: tqdm>=2.0 in /home/nbuser/anaconda3_501/lib/python3.6/site-packages (from sklearn-crfsuite->pyvi) (4.26.0)\nInstalling collected packages: python-crfsuite, sklearn-crfsuite, pyvi\nSuccessfully installed python-crfsuite-0.9.6 pyvi-0.0.9.7 sklearn-crfsuite-0.3.6\n",
          "name": "stdout"
        }
      ]
    },
    {
      "metadata": {
        "trusted": true
      },
      "cell_type": "code",
      "source": "!pip install tensorflow",
      "execution_count": 2,
      "outputs": [
        {
          "output_type": "stream",
          "text": "Requirement already satisfied: tensorflow in /home/nbuser/anaconda3_501/lib/python3.6/site-packages (1.12.2)\nRequirement already satisfied: keras-preprocessing>=1.0.5 in /home/nbuser/anaconda3_501/lib/python3.6/site-packages (from tensorflow) (1.1.0)\nRequirement already satisfied: astor>=0.6.0 in /home/nbuser/anaconda3_501/lib/python3.6/site-packages (from tensorflow) (0.8.0)\nRequirement already satisfied: protobuf>=3.6.1 in /home/nbuser/anaconda3_501/lib/python3.6/site-packages (from tensorflow) (3.9.1)\nRequirement already satisfied: numpy>=1.13.3 in /home/nbuser/anaconda3_501/lib/python3.6/site-packages (from tensorflow) (1.16.2)\nRequirement already satisfied: six>=1.10.0 in /home/nbuser/anaconda3_501/lib/python3.6/site-packages (from tensorflow) (1.11.0)\nRequirement already satisfied: grpcio>=1.8.6 in /home/nbuser/anaconda3_501/lib/python3.6/site-packages (from tensorflow) (1.23.0)\nRequirement already satisfied: termcolor>=1.1.0 in /home/nbuser/anaconda3_501/lib/python3.6/site-packages (from tensorflow) (1.1.0)\nRequirement already satisfied: absl-py>=0.1.6 in /home/nbuser/anaconda3_501/lib/python3.6/site-packages (from tensorflow) (0.7.1)\nRequirement already satisfied: keras-applications>=1.0.6 in /home/nbuser/anaconda3_501/lib/python3.6/site-packages (from tensorflow) (1.0.8)\nRequirement already satisfied: tensorboard<1.13.0,>=1.12.0 in /home/nbuser/anaconda3_501/lib/python3.6/site-packages (from tensorflow) (1.12.2)\nRequirement already satisfied: wheel>=0.26 in /home/nbuser/anaconda3_501/lib/python3.6/site-packages (from tensorflow) (0.30.0)\nRequirement already satisfied: gast>=0.2.0 in /home/nbuser/anaconda3_501/lib/python3.6/site-packages (from tensorflow) (0.2.2)\nRequirement already satisfied: setuptools in /home/nbuser/anaconda3_501/lib/python3.6/site-packages (from protobuf>=3.6.1->tensorflow) (41.1.0)\nRequirement already satisfied: h5py in /home/nbuser/anaconda3_501/lib/python3.6/site-packages (from keras-applications>=1.0.6->tensorflow) (2.8.0)\nRequirement already satisfied: werkzeug>=0.11.10 in /home/nbuser/anaconda3_501/lib/python3.6/site-packages (from tensorboard<1.13.0,>=1.12.0->tensorflow) (0.14.1)\nRequirement already satisfied: markdown>=2.6.8 in /home/nbuser/anaconda3_501/lib/python3.6/site-packages (from tensorboard<1.13.0,>=1.12.0->tensorflow) (3.0.1)\n",
          "name": "stdout"
        }
      ]
    },
    {
      "metadata": {
        "trusted": true
      },
      "cell_type": "code",
      "source": "import tensorflow as tf",
      "execution_count": 3,
      "outputs": []
    },
    {
      "metadata": {
        "trusted": true
      },
      "cell_type": "code",
      "source": "!pip install keras",
      "execution_count": 4,
      "outputs": [
        {
          "output_type": "stream",
          "text": "Requirement already satisfied: keras in /home/nbuser/anaconda3_501/lib/python3.6/site-packages (2.2.4)\nRequirement already satisfied: h5py in /home/nbuser/anaconda3_501/lib/python3.6/site-packages (from keras) (2.8.0)\nRequirement already satisfied: keras-applications>=1.0.6 in /home/nbuser/anaconda3_501/lib/python3.6/site-packages (from keras) (1.0.8)\nRequirement already satisfied: pyyaml in /home/nbuser/anaconda3_501/lib/python3.6/site-packages (from keras) (3.13)\nRequirement already satisfied: keras-preprocessing>=1.0.5 in /home/nbuser/anaconda3_501/lib/python3.6/site-packages (from keras) (1.1.0)\nRequirement already satisfied: numpy>=1.9.1 in /home/nbuser/anaconda3_501/lib/python3.6/site-packages (from keras) (1.16.2)\nRequirement already satisfied: scipy>=0.14 in /home/nbuser/anaconda3_501/lib/python3.6/site-packages (from keras) (1.1.0)\nRequirement already satisfied: six>=1.9.0 in /home/nbuser/anaconda3_501/lib/python3.6/site-packages (from keras) (1.11.0)\n",
          "name": "stdout"
        }
      ]
    },
    {
      "metadata": {
        "trusted": true
      },
      "cell_type": "code",
      "source": "!pip install xgboost",
      "execution_count": 5,
      "outputs": [
        {
          "output_type": "stream",
          "text": "Collecting xgboost\n\u001b[?25l  Downloading https://files.pythonhosted.org/packages/c1/24/5fe7237b2eca13ee0cfb100bec8c23f4e69ce9df852a64b0493d49dae4e0/xgboost-0.90-py2.py3-none-manylinux1_x86_64.whl (142.8MB)\n\u001b[K     |████████████████████████████████| 142.8MB 1.3kB/s eta 0:00:01    |██▋                             | 11.8MB 6.6MB/s eta 0:00:20     |███▌                            | 15.6MB 6.6MB/s eta 0:00:20     |██████▍                         | 28.5MB 5.3MB/s eta 0:00:22     |█████████▋                      | 42.8MB 3.9MB/s eta 0:00:26     |███████████▊                    | 52.3MB 542kB/s eta 0:02:47     |████████████                    | 53.8MB 542kB/s eta 0:02:45     |████████████▌                   | 55.7MB 4.6MB/s eta 0:00:19     |████████████▊                   | 56.9MB 4.6MB/s eta 0:00:19     |██████████████████              | 80.7MB 9.7MB/s eta 0:00:07     |██████████████████▉             | 84.0MB 5.2MB/s eta 0:00:12     |████████████████████▍           | 91.0MB 5.2MB/s eta 0:00:11     |████████████████████▊           | 92.4MB 234kB/s eta 0:03:35     |█████████████████████           | 93.3MB 234kB/s eta 0:03:31     |█████████████████████           | 93.9MB 234kB/s eta 0:03:29�▌          | 96.2MB 234kB/s eta 0:03:19     |███████████████████████         | 102.3MB 9.3MB/s eta 0:00:05███████▍      | 113.5MB 4.5MB/s eta 0:00:07    |█████████████████████████▌      | 113.8MB 4.5MB/s eta 0:00:07███████▊      | 114.8MB 1.8MB/s eta 0:00:16████████      | 116.3MB 1.7MB/s eta 0:00:16��██████████████████▏     | 116.5MB 1.7MB/s eta 0:00:16/s eta 0:02:29   | 122.5MB 146kB/s eta 0:02:20�█████████▋    | 123.0MB 120kB/s eta 0:02:44�█████████▉    | 124.2MB 120kB/s eta 0:02:352��██████████    | 124.8MB 120kB/s eta 0:02:30�██████████    | 125.4MB 120kB/s eta 0:02:25��█████████▎   | 126.4MB 1.1MB/s eta 0:00:15��██████████   | 129.2MB 5.7MB/s eta 0:00:03�██████████   | 129.5MB 5.7MB/s eta 0:00:03██████████   | 129.8MB 2.5MB/s eta 0:00:06��████████████████████▍  | 131.2MB 2.5MB/s eta 0:00:0531.5MB 2.5MB/s eta 0:00:052kB/s eta 0:00:17     |█████████████████████████████▉  | 133.0MB 652kB/s eta 0:00:16     |██████████████████████████████  | 134.1MB 155kB/s eta 0:00:57��██████████████████████████▊ | 137.1MB 99kB/s eta 0:00:57    |██████████████████████████████▉ | 137.6MB 139kB/s eta 0:00:38�█████████████████████████████ | 137.9MB 139kB/s eta 0:00:36██████████████████████████ | 138.2MB 139kB/s eta 0:00:33��██████████████████████ | 138.5MB 139kB/s eta 0:00:319.6MB 140kB/s eta 0:00:23██████▉| 141.9MB 140kB/s eta 0:00:072.3MB 140kB/s eta 0:00:05�███████████████| 142.6MB 140kB/s eta 0:00:02\n\u001b[?25hRequirement already satisfied: scipy in /home/nbuser/anaconda3_501/lib/python3.6/site-packages (from xgboost) (1.1.0)\nRequirement already satisfied: numpy in /home/nbuser/anaconda3_501/lib/python3.6/site-packages (from xgboost) (1.16.2)\nInstalling collected packages: xgboost\nSuccessfully installed xgboost-0.90\n",
          "name": "stdout"
        }
      ]
    },
    {
      "metadata": {
        "trusted": true
      },
      "cell_type": "code",
      "source": "!pip install gensim",
      "execution_count": 6,
      "outputs": [
        {
          "output_type": "stream",
          "text": "Requirement already satisfied: gensim in /home/nbuser/anaconda3_501/lib/python3.6/site-packages (3.8.0)\nRequirement already satisfied: scipy>=0.18.1 in /home/nbuser/anaconda3_501/lib/python3.6/site-packages (from gensim) (1.1.0)\nRequirement already satisfied: smart-open>=1.7.0 in /home/nbuser/anaconda3_501/lib/python3.6/site-packages (from gensim) (1.8.4)\nRequirement already satisfied: numpy>=1.11.3 in /home/nbuser/anaconda3_501/lib/python3.6/site-packages (from gensim) (1.16.2)\nRequirement already satisfied: six>=1.5.0 in /home/nbuser/anaconda3_501/lib/python3.6/site-packages (from gensim) (1.11.0)\nRequirement already satisfied: boto3 in /home/nbuser/anaconda3_501/lib/python3.6/site-packages (from smart-open>=1.7.0->gensim) (1.4.8)\nRequirement already satisfied: requests in /home/nbuser/anaconda3_501/lib/python3.6/site-packages (from smart-open>=1.7.0->gensim) (2.22.0)\nRequirement already satisfied: boto>=2.32 in /home/nbuser/anaconda3_501/lib/python3.6/site-packages (from smart-open>=1.7.0->gensim) (2.49.0)\nRequirement already satisfied: s3transfer<0.2.0,>=0.1.10 in /home/nbuser/anaconda3_501/lib/python3.6/site-packages (from boto3->smart-open>=1.7.0->gensim) (0.1.13)\nRequirement already satisfied: jmespath<1.0.0,>=0.7.1 in /home/nbuser/anaconda3_501/lib/python3.6/site-packages (from boto3->smart-open>=1.7.0->gensim) (0.9.4)\nRequirement already satisfied: botocore<1.9.0,>=1.8.0 in /home/nbuser/anaconda3_501/lib/python3.6/site-packages (from boto3->smart-open>=1.7.0->gensim) (1.8.50)\nRequirement already satisfied: chardet<3.1.0,>=3.0.2 in /home/nbuser/anaconda3_501/lib/python3.6/site-packages (from requests->smart-open>=1.7.0->gensim) (3.0.4)\nRequirement already satisfied: urllib3!=1.25.0,!=1.25.1,<1.26,>=1.21.1 in /home/nbuser/anaconda3_501/lib/python3.6/site-packages (from requests->smart-open>=1.7.0->gensim) (1.23)\nRequirement already satisfied: idna<2.9,>=2.5 in /home/nbuser/anaconda3_501/lib/python3.6/site-packages (from requests->smart-open>=1.7.0->gensim) (2.7)\nRequirement already satisfied: certifi>=2017.4.17 in /home/nbuser/anaconda3_501/lib/python3.6/site-packages (from requests->smart-open>=1.7.0->gensim) (2018.10.15)\nRequirement already satisfied: python-dateutil<3.0.0,>=2.1 in /home/nbuser/anaconda3_501/lib/python3.6/site-packages (from botocore<1.9.0,>=1.8.0->boto3->smart-open>=1.7.0->gensim) (2.8.0)\nRequirement already satisfied: docutils>=0.10 in /home/nbuser/anaconda3_501/lib/python3.6/site-packages (from botocore<1.9.0,>=1.8.0->boto3->smart-open>=1.7.0->gensim) (0.14)\n",
          "name": "stdout"
        }
      ]
    },
    {
      "metadata": {
        "trusted": true
      },
      "cell_type": "code",
      "source": "",
      "execution_count": null,
      "outputs": []
    }
  ],
  "metadata": {
    "kernelspec": {
      "name": "python36",
      "display_name": "Python 3.6",
      "language": "python"
    },
    "language_info": {
      "mimetype": "text/x-python",
      "nbconvert_exporter": "python",
      "name": "python",
      "pygments_lexer": "ipython3",
      "version": "3.6.6",
      "file_extension": ".py",
      "codemirror_mode": {
        "version": 3,
        "name": "ipython"
      }
    }
  },
  "nbformat": 4,
  "nbformat_minor": 2
}