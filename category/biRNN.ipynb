{
  "cells": [
    {
      "metadata": {
        "trusted": true
      },
      "cell_type": "code",
      "source": "!pip install pyvi",
      "execution_count": 1,
      "outputs": [
        {
          "output_type": "stream",
          "text": "Requirement already satisfied: pyvi in /home/nbuser/anaconda3_501/lib/python3.6/site-packages (0.0.9.7)\nRequirement already satisfied: sklearn-crfsuite in /home/nbuser/anaconda3_501/lib/python3.6/site-packages (from pyvi) (0.3.6)\nRequirement already satisfied: scikit-learn in /home/nbuser/anaconda3_501/lib/python3.6/site-packages (from pyvi) (0.20.3)\nRequirement already satisfied: tabulate in /home/nbuser/anaconda3_501/lib/python3.6/site-packages (from sklearn-crfsuite->pyvi) (0.8.2)\nRequirement already satisfied: six in /home/nbuser/anaconda3_501/lib/python3.6/site-packages (from sklearn-crfsuite->pyvi) (1.11.0)\nRequirement already satisfied: tqdm>=2.0 in /home/nbuser/anaconda3_501/lib/python3.6/site-packages (from sklearn-crfsuite->pyvi) (4.26.0)\nRequirement already satisfied: python-crfsuite>=0.8.3 in /home/nbuser/anaconda3_501/lib/python3.6/site-packages (from sklearn-crfsuite->pyvi) (0.9.6)\nRequirement already satisfied: scipy>=0.13.3 in /home/nbuser/anaconda3_501/lib/python3.6/site-packages (from scikit-learn->pyvi) (1.1.0)\nRequirement already satisfied: numpy>=1.8.2 in /home/nbuser/anaconda3_501/lib/python3.6/site-packages (from scikit-learn->pyvi) (1.16.2)\n\u001b[33mWARNING: You are using pip version 19.2.2, however version 19.2.3 is available.\nYou should consider upgrading via the 'pip install --upgrade pip' command.\u001b[0m\n",
          "name": "stdout"
        }
      ]
    },
    {
      "metadata": {
        "trusted": true
      },
      "cell_type": "code",
      "source": "from pyvi import ViTokenizer, ViPosTagger\nimport numpy as np\nimport pandas as pd\nfrom pyvi import ViTokenizer, ViPosTagger\nfrom sklearn import model_selection, preprocessing, linear_model, naive_bayes, metrics, svm\nfrom sklearn.feature_extraction.text import TfidfVectorizer, CountVectorizer\nfrom sklearn import decomposition, ensemble\nfrom keras.preprocessing import text, sequence\nfrom keras import layers, models, optimizers\nfrom keras.layers import *\nfrom sklearn.externals import joblib",
      "execution_count": 2,
      "outputs": [
        {
          "output_type": "stream",
          "text": "Using TensorFlow backend.\n",
          "name": "stderr"
        }
      ]
    },
    {
      "metadata": {
        "trusted": true
      },
      "cell_type": "code",
      "source": "df = pd.read_csv(\"Data_train.csv\", encoding = \"utf-8\")\ndf.head()",
      "execution_count": 3,
      "outputs": [
        {
          "output_type": "execute_result",
          "execution_count": 3,
          "data": {
            "text/html": "<div>\n<style scoped>\n    .dataframe tbody tr th:only-of-type {\n        vertical-align: middle;\n    }\n\n    .dataframe tbody tr th {\n        vertical-align: top;\n    }\n\n    .dataframe thead th {\n        text-align: right;\n    }\n</style>\n<table border=\"1\" class=\"dataframe\">\n  <thead>\n    <tr style=\"text-align: right;\">\n      <th></th>\n      <th>Unnamed: 0</th>\n      <th>product</th>\n      <th>level_1</th>\n      <th>level_2</th>\n      <th>target</th>\n      <th>Unnamed: 5</th>\n      <th>Unnamed: 6</th>\n      <th>Unnamed: 7</th>\n    </tr>\n  </thead>\n  <tbody>\n    <tr>\n      <th>0</th>\n      <td>1541.0</td>\n      <td>áo len vàng</td>\n      <td>Thời trang - Phụ kiện</td>\n      <td>Thời trang - Phụ kiện không phân biệt giới tính</td>\n      <td>Áo Nam/Nữ</td>\n      <td>NaN</td>\n      <td>NaN</td>\n      <td>count</td>\n    </tr>\n    <tr>\n      <th>1</th>\n      <td>4041.0</td>\n      <td>Áo len rớt vai 211 NQ</td>\n      <td>Thời trang - Phụ kiện</td>\n      <td>Thời trang nữ</td>\n      <td>Áo cardigan, áo len, áo hoodie nữ</td>\n      <td>NaN</td>\n      <td>NaN</td>\n      <td>0</td>\n    </tr>\n    <tr>\n      <th>2</th>\n      <td>4081.0</td>\n      <td>ao len lo lo pha mau</td>\n      <td>Thời trang - Phụ kiện</td>\n      <td>Thời trang - Phụ kiện không phân biệt giới tính</td>\n      <td>Áo Nam/Nữ</td>\n      <td>NaN</td>\n      <td>Thực phẩm - Đồ uống khác</td>\n      <td>2</td>\n    </tr>\n    <tr>\n      <th>3</th>\n      <td>7421.0</td>\n      <td>ÁO TD LEN MẮT CƯỜM HỒNG</td>\n      <td>Thời trang - Phụ kiện</td>\n      <td>Thời trang nữ</td>\n      <td>Áo cardigan, áo len, áo hoodie nữ</td>\n      <td>NaN</td>\n      <td>Đồ dùng phòng bếp khác</td>\n      <td>5</td>\n    </tr>\n    <tr>\n      <th>4</th>\n      <td>7841.0</td>\n      <td>Áo len sweet cổ viền hoa lụa BG nhí H2043</td>\n      <td>Thời trang - Phụ kiện</td>\n      <td>Thời trang nữ</td>\n      <td>Áo cardigan, áo len, áo hoodie nữ</td>\n      <td>NaN</td>\n      <td>Đồ hộp khác</td>\n      <td>7</td>\n    </tr>\n  </tbody>\n</table>\n</div>",
            "text/plain": "   Unnamed: 0                                    product  \\\n0      1541.0                                áo len vàng   \n1      4041.0                      Áo len rớt vai 211 NQ   \n2      4081.0                       ao len lo lo pha mau   \n3      7421.0                    ÁO TD LEN MẮT CƯỜM HỒNG   \n4      7841.0  Áo len sweet cổ viền hoa lụa BG nhí H2043   \n\n                 level_1                                          level_2  \\\n0  Thời trang - Phụ kiện  Thời trang - Phụ kiện không phân biệt giới tính   \n1  Thời trang - Phụ kiện                                    Thời trang nữ   \n2  Thời trang - Phụ kiện  Thời trang - Phụ kiện không phân biệt giới tính   \n3  Thời trang - Phụ kiện                                    Thời trang nữ   \n4  Thời trang - Phụ kiện                                    Thời trang nữ   \n\n                              target Unnamed: 5                Unnamed: 6  \\\n0                          Áo Nam/Nữ        NaN                       NaN   \n1  Áo cardigan, áo len, áo hoodie nữ        NaN                       NaN   \n2                          Áo Nam/Nữ        NaN  Thực phẩm - Đồ uống khác   \n3  Áo cardigan, áo len, áo hoodie nữ        NaN    Đồ dùng phòng bếp khác   \n4  Áo cardigan, áo len, áo hoodie nữ        NaN               Đồ hộp khác   \n\n  Unnamed: 7  \n0     count   \n1          0  \n2          2  \n3          5  \n4          7  "
          },
          "metadata": {}
        }
      ]
    },
    {
      "metadata": {
        "trusted": true
      },
      "cell_type": "code",
      "source": "data = df.drop(['Unnamed: 0', 'level_2','level_1', 'Unnamed: 5', 'Unnamed: 6', 'Unnamed: 7'] , axis=1)\n\ndata.head()",
      "execution_count": 4,
      "outputs": [
        {
          "output_type": "execute_result",
          "execution_count": 4,
          "data": {
            "text/html": "<div>\n<style scoped>\n    .dataframe tbody tr th:only-of-type {\n        vertical-align: middle;\n    }\n\n    .dataframe tbody tr th {\n        vertical-align: top;\n    }\n\n    .dataframe thead th {\n        text-align: right;\n    }\n</style>\n<table border=\"1\" class=\"dataframe\">\n  <thead>\n    <tr style=\"text-align: right;\">\n      <th></th>\n      <th>product</th>\n      <th>target</th>\n    </tr>\n  </thead>\n  <tbody>\n    <tr>\n      <th>0</th>\n      <td>áo len vàng</td>\n      <td>Áo Nam/Nữ</td>\n    </tr>\n    <tr>\n      <th>1</th>\n      <td>Áo len rớt vai 211 NQ</td>\n      <td>Áo cardigan, áo len, áo hoodie nữ</td>\n    </tr>\n    <tr>\n      <th>2</th>\n      <td>ao len lo lo pha mau</td>\n      <td>Áo Nam/Nữ</td>\n    </tr>\n    <tr>\n      <th>3</th>\n      <td>ÁO TD LEN MẮT CƯỜM HỒNG</td>\n      <td>Áo cardigan, áo len, áo hoodie nữ</td>\n    </tr>\n    <tr>\n      <th>4</th>\n      <td>Áo len sweet cổ viền hoa lụa BG nhí H2043</td>\n      <td>Áo cardigan, áo len, áo hoodie nữ</td>\n    </tr>\n  </tbody>\n</table>\n</div>",
            "text/plain": "                                     product  \\\n0                                áo len vàng   \n1                      Áo len rớt vai 211 NQ   \n2                       ao len lo lo pha mau   \n3                    ÁO TD LEN MẮT CƯỜM HỒNG   \n4  Áo len sweet cổ viền hoa lụa BG nhí H2043   \n\n                              target  \n0                          Áo Nam/Nữ  \n1  Áo cardigan, áo len, áo hoodie nữ  \n2                          Áo Nam/Nữ  \n3  Áo cardigan, áo len, áo hoodie nữ  \n4  Áo cardigan, áo len, áo hoodie nữ  "
          },
          "metadata": {}
        }
      ]
    },
    {
      "metadata": {
        "trusted": true
      },
      "cell_type": "code",
      "source": "sents = data['product']\nsents = sents.str.lower()\nX = []\nfor sent in sents:\n    split = ViTokenizer.tokenize( str(sent))\n    #print (split)\n    X.append(split)",
      "execution_count": 5,
      "outputs": []
    },
    {
      "metadata": {
        "trusted": true
      },
      "cell_type": "code",
      "source": "t = data['target']\ny = np.array(t)",
      "execution_count": 6,
      "outputs": []
    },
    {
      "metadata": {
        "trusted": true
      },
      "cell_type": "code",
      "source": "from sklearn.model_selection import train_test_split\nX_data, X_test, y_data, y_test = train_test_split(X, y, test_size=0.2, random_state = 42)",
      "execution_count": 7,
      "outputs": []
    },
    {
      "metadata": {
        "trusted": true
      },
      "cell_type": "code",
      "source": "# create a count vectorizer object \ncount_vect = CountVectorizer(analyzer='word', token_pattern=r'\\w{1,}')\ncount_vect.fit(X_data)\n\n# transform the training and validation data using count vectorizer object\nX_data_count = count_vect.transform(X_data)\nX_test_count = count_vect.transform(X_test)",
      "execution_count": 8,
      "outputs": []
    },
    {
      "metadata": {
        "trusted": true
      },
      "cell_type": "code",
      "source": "# word level - we choose max number of words equal to 30000 except all words (100k+ words)\ntfidf_vect = TfidfVectorizer(analyzer='word', max_features=30000)\ntfidf_vect.fit(X_data) # learn vocabulary and idf from training set\nX_data_tfidf =  tfidf_vect.transform(X_data)\n# assume that we don't have test set before\nX_test_tfidf =  tfidf_vect.transform(X_test)",
      "execution_count": 9,
      "outputs": []
    },
    {
      "metadata": {
        "trusted": true
      },
      "cell_type": "code",
      "source": "tfidf_vect.get_feature_names()",
      "execution_count": 10,
      "outputs": [
        {
          "output_type": "execute_result",
          "execution_count": 10,
          "data": {
            "text/plain": "['000',\n '0000',\n '0000y000595',\n '001',\n '002',\n '004b',\n '01',\n '017',\n '02',\n '03',\n '031',\n '036',\n '04',\n '05',\n '06',\n '07',\n '0745',\n '08',\n '084',\n '0962',\n '0974',\n '0mg',\n '10',\n '100',\n '1000',\n '10000',\n '10000mah',\n '1000ml',\n '100g',\n '100gr',\n '100k',\n '100ml',\n '100t',\n '1016',\n '102cm',\n '103',\n '105',\n '1060',\n '1091',\n '10g',\n '10inch',\n '10k',\n '10li',\n '10ml',\n '10t',\n '10w',\n '10x',\n '10x17',\n '10x20ml',\n '10x21ml',\n '11',\n '110',\n '110g',\n '110ml',\n '110v',\n '111',\n '1127',\n '115',\n '1150',\n '116231',\n '1166',\n '117',\n '1178',\n '118g',\n '11ly',\n '11ml',\n '12',\n '120',\n '1200',\n '1200whd',\n '120g',\n '120gb',\n '120k',\n '120ml',\n '120v',\n '12196',\n '122',\n '12345',\n '125',\n '125g',\n '125ml',\n '128',\n '1284g',\n '128gb',\n '1299',\n '12d',\n '12g',\n '12m',\n '12t',\n '12x19cm',\n '13',\n '130',\n '130pđ',\n '1339',\n '134',\n '135g',\n '1362',\n '1380ml',\n '139',\n '13ly',\n '14',\n '140128',\n '140g',\n '140ml',\n '1410805',\n '147k',\n '14cm',\n '14k',\n '15',\n '150',\n '15000',\n '150cm',\n '150g',\n '150gr',\n '150ml',\n '1518',\n '155g',\n '155gr',\n '157g',\n '15cm',\n '15m03',\n '16',\n '1601',\n '160g',\n '162',\n '1655230',\n '168',\n '16g',\n '16gb',\n '16x10x24',\n '17',\n '170ml',\n '171',\n '175g',\n '175k',\n '175ml',\n '1767',\n '17cm',\n '18',\n '180',\n '1800ml',\n '180g',\n '180k',\n '180ml',\n '185',\n '185m',\n '18708',\n '1872',\n '18cm',\n '18k',\n '18l',\n '18m',\n '18pcs',\n '19',\n '1906',\n '1920',\n '1922',\n '19395',\n '1951',\n '199k',\n '19g',\n '1a',\n '1ck45',\n '1dg',\n '1kg',\n '1l',\n '1lit',\n '1ly',\n '1m2',\n '1m5',\n '1m6',\n '1m8',\n '1m9',\n '1mx2m',\n '1n0068',\n '1x1',\n '1y',\n '20',\n '200',\n '200g',\n '200k',\n '200ml',\n '200mm',\n '201',\n '2013',\n '2017',\n '2018',\n '2019',\n '201g',\n '20cm',\n '20kg',\n '20w',\n '21',\n '210',\n '211',\n '212bg',\n '213',\n '219',\n '21cm',\n '22',\n '220',\n '220ml',\n '222',\n '23',\n '2309',\n '230g',\n '2360',\n '237ml',\n '23cm',\n '24',\n '240',\n '240py',\n '246563',\n '24c',\n '24k',\n '24l',\n '24ml',\n '24x5cm',\n '25',\n '250',\n '2501',\n '250g',\n '250gram',\n '250ml',\n '255g',\n '25600',\n '25cm',\n '25g',\n '25ml',\n '25mm',\n '26',\n '260',\n '262',\n '268',\n '26cm',\n '27',\n '270281413',\n '270g',\n '2715',\n '28',\n '280ml',\n '282g',\n '287',\n '28cm',\n '28g',\n '29',\n '290',\n '291018',\n '2955',\n '2b',\n '2c',\n '2g',\n '2k',\n '2l',\n '2lb19s005',\n '2nâu',\n '2pe',\n '2s',\n '2vxb',\n '2y',\n '30',\n '300',\n '300g',\n '300gr',\n '300ml',\n '300mm',\n '3021',\n '304',\n '306',\n '309',\n '30cm',\n '30g',\n '30ml',\n '30v',\n '30w',\n '31',\n '32',\n '320g',\n '320ml',\n '321',\n '32cm',\n '32g',\n '32gb',\n '33',\n '330',\n '330ml',\n '338495',\n '345',\n '345ow',\n '35',\n '3500l',\n '350g',\n '350k',\n '350ml',\n '350nl',\n '355ml',\n '35g',\n '36',\n '360',\n '3600ml',\n '360g',\n '360ml',\n '365',\n '37',\n '370g',\n '375g',\n '37x105cm',\n '38',\n '380g',\n '385ml',\n '388',\n '38cm',\n '38g',\n '39',\n '390ml',\n '39g',\n '3d',\n '3kg',\n '3l',\n '3m',\n '3ml',\n '3p',\n '3w',\n '40',\n '400g',\n '400ml',\n '400mlx2',\n '4062',\n '40cm',\n '40g',\n '40ml',\n '41',\n '42',\n '420',\n '42gr',\n '43',\n '430',\n '435g',\n '44',\n '4502',\n '450g',\n '450ml',\n '454g',\n '460',\n '470g',\n '48',\n '480ml',\n '49',\n '4c',\n '4cm',\n '4f',\n '4g',\n '4y',\n '50',\n '500',\n '5002',\n '5005',\n '500g',\n '500gr',\n '500ml',\n '507',\n '50cm',\n '50d',\n '50g',\n '50gr',\n '50ml',\n '50w',\n '50x70cm',\n '51',\n '5132',\n '518',\n '5223',\n '5250',\n '528',\n '532ml',\n '55',\n '5503',\n '56',\n '560g',\n '5671',\n '572',\n '58g',\n '591839862477',\n '59cn',\n '5cm',\n '5g',\n '5l',\n '5ml',\n '5oz',\n '5p',\n '5s',\n '5y',\n '60',\n '6002',\n '600g',\n '600ml',\n '6010',\n '6012',\n '6027',\n '6043',\n '6066',\n '609',\n '60g',\n '60ml',\n '60mm',\n '610',\n '6115',\n '6116st',\n '619',\n '621ml',\n '625ml',\n '6278',\n '62gb',\n '63',\n '6323',\n '640xl',\n '64g',\n '64gb',\n '650ml',\n '65ml',\n '6625',\n '66377',\n '6677',\n '668',\n '67',\n '67376739',\n '67g',\n '69159',\n '6b',\n '6e',\n '6f',\n '6g',\n '6ly',\n '6ml',\n '6p',\n '6pcs',\n '6s',\n '70',\n '7002',\n '7003',\n '700ml',\n '702',\n '705gb',\n '708',\n '70g',\n '70w',\n '712',\n '72',\n '726g',\n '740k',\n '750g',\n '750ml',\n '75cl',\n '75g',\n '75ml',\n '779',\n '7806',\n '7f',\n '7mm',\n '7oz',\n '7th',\n '7up',\n '7xl',\n '7xxx',\n '80',\n '800004',\n '80087',\n '800g',\n '800ml',\n '801962',\n '806',\n '80g',\n '80k',\n '81g',\n '8382',\n '83g',\n '84g',\n '85',\n '8589',\n '85ml',\n '8601',\n '870',\n '88',\n '8825',\n '8g',\n '8inch',\n '8m',\n '8ml',\n '8mx48',\n '8p64',\n '8pl64g',\n '90',\n '9008',\n '900g',\n '900ml',\n '901011',\n '903',\n '905',\n '9050',\n '907',\n '9071',\n '907g',\n '90cm',\n '90g',\n '90gb',\n '90ml',\n '90x137cm',\n '9101',\n '917',\n '9188',\n '91w',\n '92',\n '9208',\n '925',\n '9325',\n '9353',\n '935987',\n '9600300',\n '9720',\n '98',\n '9807',\n '982',\n '9884',\n '99',\n '990',\n '99102',\n '9920b',\n '9th',\n '_500ml',\n 'a1',\n 'a10',\n 'a217',\n 'a3s',\n 'a5s',\n 'a63',\n 'a693',\n 'a7',\n 'a83',\n 'a_di_đà',\n 'aaa',\n 'abbott',\n 'abc',\n 'abf16',\n 'absolute',\n 'accessories',\n 'ace',\n 'acne',\n 'active',\n 'add',\n 'adidas',\n 'adidasss',\n 'adm',\n 'af',\n 'affair',\n 'aging',\n 'ah',\n 'air',\n 'airy',\n 'ak',\n 'aknk3',\n 'al00',\n 'all',\n 'almond',\n 'aloe',\n 'alowatch',\n 'alphabounce',\n 'amd',\n 'american',\n 'amie',\n 'amisilk',\n 'ampoule',\n 'an',\n 'an107',\n 'an_an',\n 'an_giang',\n 'an_lành',\n 'and',\n 'android',\n 'angeles',\n 'anglade',\n 'anh',\n 'ankle',\n 'ann953l',\n 'anotex',\n 'ansu',\n 'ant',\n 'anti',\n 'anu',\n 'ao',\n 'ao_da',\n 'ao_dạ',\n 'aolikes',\n 'apacs',\n 'apple',\n 'april',\n 'aqa',\n 'aqua',\n 'aquafina',\n 'arch',\n 'archcafe',\n 'aristino',\n 'army',\n 'aroma',\n 'arr',\n 'asos',\n 'assort',\n 'at',\n 'at017',\n 'auto',\n 'avon',\n 'axia',\n 'axo',\n 'ay7005k',\n 'b042t',\n 'b220',\n 'b2240',\n 'b2b',\n 'b75',\n 'b95038',\n 'ba',\n 'ba8900',\n 'ba_lô',\n 'ba_lỗ',\n 'ba_rọi',\n 'baby',\n 'babydoll',\n 'bac',\n 'baggy',\n 'baking',\n 'ballet',\n 'balm',\n 'balo',\n 'bamboo',\n 'bamoer',\n 'bamor_dm_7cm_1066',\n 'ban_ngày',\n 'banh',\n 'bank',\n 'bao',\n 'bao_tay',\n 'bao_tử',\n 'baodi',\n 'bar',\n 'baron',\n 'basa',\n 'base',\n 'basic',\n 'bass',\n 'bath',\n 'baum',\n 'bavi',\n 'bazas',\n 'bb',\n 'bb17',\n 'bb2819',\n 'bball',\n 'bbd',\n 'bbn',\n 'bbr',\n 'bbt',\n 'bbyes',\n 'bbđ',\n 'bcđr',\n 'be',\n 'beanpole',\n 'bear',\n 'beauty',\n 'beautyful',\n 'bebeco',\n 'bech',\n 'beck',\n 'beer',\n 'belt',\n 'benidiction',\n 'beo',\n 'bepop',\n 'bere',\n 'berrino',\n 'betagen',\n 'bewitching',\n 'beyond',\n 'bg',\n 'bh',\n 'bi',\n 'bia',\n 'bica',\n 'bich',\n 'bifesta',\n 'big',\n 'biggben',\n 'bigood',\n 'bikini',\n 'bills',\n 'biloba',\n 'bim',\n 'bio',\n 'bioaqua',\n 'biore',\n 'bioren',\n 'biotin',\n 'birthday',\n 'biscuit',\n 'bitas',\n 'biti',\n 'bitis',\n 'bitter',\n 'biển',\n 'bl374',\n 'black',\n 'blackrouge',\n 'blast',\n 'blazer',\n 'bled',\n 'bless',\n 'blink',\n 'bllt677',\n 'bllue',\n 'blossom',\n 'blp673',\n 'blue',\n 'blueberry',\n 'blueo',\n 'bluetooth',\n 'bm1',\n 'bmind',\n 'bn',\n 'bn096',\n 'bo',\n 'bobby',\n 'body',\n 'bodysuit',\n 'bom',\n 'bong',\n 'boost',\n 'boot',\n 'boroseal',\n 'bosini',\n 'bossini',\n 'bot',\n 'bourjois',\n 'boutique',\n 'bowmore',\n 'box',\n 'boxer',\n 'boy',\n 'br808',\n 'bra',\n 'bracelet',\n 'brain',\n 'breaker',\n 'breton',\n 'bright',\n 'brightening',\n 'brilliance',\n 'brothers',\n 'brush',\n 'brut',\n 'bräu',\n 'bt',\n 'bt3039',\n 'bts',\n 'bubba',\n 'bubble',\n 'bud',\n 'budweiser',\n 'bulb',\n 'bulgari',\n 'bull',\n 'bulon',\n 'burger',\n 'burin',\n 'burlon',\n 'burt',\n 'buttetfly',\n 'button',\n 'buổi',\n 'buộc',\n 'bv',\n 'bvs',\n 'by',\n 'byphasse',\n 'bàn',\n 'bàn_chải',\n 'bàn_phím',\n 'bàng',\n 'báng',\n 'bánh',\n 'bánh_bèo',\n 'bánh_hiro',\n 'bánh_lát',\n 'bánh_phở',\n 'bánh_quy',\n 'bánh_tráng',\n 'bánh_đa',\n 'báo',\n 'bát',\n 'bát_đĩa',\n 'bâu',\n 'bèo',\n 'bé',\n 'bén',\n 'béo',\n 'bên',\n 'bình',\n 'bình_minh',\n 'bình_xịt',\n 'bí',\n 'bí_đỏ',\n 'bích_chi',\n 'bít',\n 'bò',\n 'bóc',\n 'bóng',\n 'bóp',\n 'bôi',\n 'bông',\n 'bông_cải',\n 'bông_mai',\n 'bông_tai',\n 'bún',\n 'búp_bê',\n 'bút',\n 'bút_chì',\n 'băng',\n 'băng_đô_gabby',\n 'bơ',\n 'bơi',\n 'bơi_liền',\n 'bơi_nam',\n 'bưởi',\n 'bạc',\n 'bạc_hà',\n 'bạch_tuộc',\n 'bạn',\n 'bản',\n 'bảng',\n 'bảo_quản',\n 'bảo_vệ',\n 'bấm',\n 'bất_kì',\n 'bầu_iv155',\n 'bẩn',\n 'bật_lửa',\n 'bắn',\n 'bắp',\n 'bắp_chân',\n 'bằm',\n 'bằng',\n 'bẹp',\n 'bẹt',\n 'bẻ',\n 'bếp',\n 'bề_mặt',\n 'bệt',\n 'bịch',\n 'bọc',\n 'bọt',\n 'bỏng',\n 'bốn',\n 'bốt',\n 'bồ_đề',\n 'bồi_tử',\n 'bồn_cầu',\n 'bổ_sung',\n 'bổn',\n 'bộ',\n 'bộc',\n 'bột',\n 'bột_giặt',\n 'bụng',\n 'c2',\n 'c3',\n 'c6313',\n 'c8026',\n 'c8129',\n 'ca',\n 'ca30',\n 'ca_rô',\n 'cacc7mau',\n 'cadbury',\n 'cafe',\n 'café',\n 'cag2',\n 'cag38x',\n 'calbee',\n 'calcm01',\n 'california',\n 'cam',\n 'camellia',\n 'camera',\n 'camera_kép',\n 'can',\n 'canfoco',\n 'canh',\n 'canoxinh01',\n 'canvas',\n 'cao',\n 'cao_bồi',\n 'cao_cấp',\n 'cao_gót',\n 'cao_su',\n 'cao_tuổi',\n 'cara',\n 'carbon',\n 'card',\n 'cardigan',\n 'cardin',\n 'care',\n 'careen',\n 'carm',\n 'caro',\n 'carot',\n 'carter',\n 'cartoon',\n 'caryophy',\n 'casio',\n 'catha',\n 'catn01',\n 'cau',\n 'cay',\n 'cb',\n 'cc',\n 'cellular',\n 'cenota',\n 'cetaphil',\n 'cf',\n 'cf0091',\n 'cg01',\n 'cg_baimée',\n 'ch',\n 'chacoal',\n 'chai',\n 'chai140ml',\n 'chai400ml',\n 'chain',\n 'chainel',\n 'chaix130ml',\n 'chalk',\n 'cham',\n 'champagne',\n 'chan',\n 'chanel',\n 'chanh',\n 'chanh_eco',\n 'chanh_gừng',\n 'chanh_tuyết',\n 'charm',\n 'charme',\n 'chay',\n 'chay_vị',\n 'che',\n 'che_cổ',\n 'che_phủ',\n 'check',\n 'checkered',\n 'cheese',\n 'chemi',\n 'chemi156gray',\n 'cheo',\n 'cherry',\n 'chi',\n 'chi_tiết',\n 'chia',\n 'chick',\n 'chieu_tre',\n 'chill',\n 'chim',\n 'chimay',\n 'chivas',\n 'chiên',\n 'chiếc',\n 'chiết',\n 'chiết_xuất',\n 'chiếu',\n 'chiếu_tre',\n 'chiều',\n 'cho',\n 'chou',\n 'choàng',\n 'chrome',\n 'chu_a',\n 'chua',\n 'chuc',\n 'chucws',\n 'chun',\n 'chuyên',\n 'chuyên_biệt',\n 'chuyên_dùng',\n 'chuyên_dụng',\n 'chuyển',\n 'chuyển_động',\n 'chuôi',\n 'chuẩn',\n 'chuốc',\n 'chuối',\n 'chuỗi',\n 'chuột',\n 'cháo',\n 'cháo_ll',\n 'chân',\n ...]"
          },
          "metadata": {}
        }
      ]
    },
    {
      "metadata": {
        "trusted": true
      },
      "cell_type": "code",
      "source": "# ngram level - we choose max number of words equal to 30000 except all words (100k+ words)\ntfidf_vect_ngram = TfidfVectorizer(analyzer='word', max_features=30000, ngram_range=(2, 3))\ntfidf_vect_ngram.fit(X_data)\nX_data_tfidf_ngram =  tfidf_vect_ngram.transform(X_data)\n# assume that we don't have test set before\nX_test_tfidf_ngram =  tfidf_vect_ngram.transform(X_test)",
      "execution_count": 11,
      "outputs": []
    },
    {
      "metadata": {
        "trusted": true
      },
      "cell_type": "code",
      "source": "tfidf_vect_ngram.get_feature_names()",
      "execution_count": 12,
      "outputs": [
        {
          "output_type": "execute_result",
          "execution_count": 12,
          "data": {
            "text/plain": "['000 mah',\n '000 mah cổng_usb',\n '000 mah v_li',\n '000 phút',\n '000 phút gọi',\n '002 túi',\n '002 túi in',\n '004b đồng',\n '01 black',\n '017 gam',\n '02 móc',\n '02 móc treo',\n '02 xám',\n '02 xám caro',\n '03 uha',\n '03 áo',\n '03 áo 240',\n '036 đỏ',\n '036 đỏ 18',\n '04 05',\n '04 05 túi',\n '04 chức',\n '05 03',\n '05 03 áo',\n '05 túi',\n '05 túi da',\n '06 framboiselle',\n '06 hk_037',\n '06 hk_037 thảm',\n '06 philip',\n '07 coral',\n '0745 đá',\n '0745 đá đính',\n '084 29',\n '0962 72',\n '0962 72 1178',\n '0974 16',\n '0974 16 39',\n '10 000',\n '10 000 mah',\n '10 147k',\n '10 bông',\n '10 bông lau',\n '10 chiếc',\n '10 chiếc sữ',\n '10 cm',\n '10 cái',\n '10 dây',\n '10 dẻo',\n '10 dẻo trong',\n '10 hạt',\n '10 hộp',\n '10 hộp cá_mòi',\n '10 hộp sữa_tươi',\n '10 lon',\n '10 lon cá_nục',\n '10 móc',\n '10 móc treo',\n '10 nến',\n '10 nến tealight',\n '10 quần_lót',\n '10 quần_lót nữ',\n '10 quần_lót vera',\n '10 sữa',\n '10 sữa đặc',\n '10 đui_đèn',\n '10 đui_đèn treo',\n '10 đĩa',\n '10 đĩa giấy_uncle',\n '100 chưa',\n '100 chưa active',\n '100 cotton',\n '100 cotton 110g',\n '100 ly',\n '100 ly giấy',\n '100 ml',\n '100 ngôi_sao',\n '100 ngôi_sao dán',\n '100 nến',\n '100 nến tealight',\n '100 tờ',\n '100 tờ mới',\n '100 viên',\n '1000 ly',\n '1000 ly giấy',\n '10000 mah',\n '10000 mah cổng',\n '1000ml x2',\n '100g không',\n '100g không tính',\n '100g x48',\n '100ml cẩm_đạt',\n '100ml hoa',\n '100ml hoa linh',\n '100t baby',\n '1016 6e',\n '1016 6e 59cn',\n '1060 dha012',\n '10g hộp',\n '10g hộp 125',\n '10inch mr',\n '10inch mr ace',\n '10k nhẫn',\n '10li 3p',\n '10li 3p dầy',\n '10ml cùng',\n '10ml xông',\n '10ml xông phòn',\n '10x 320ml',\n '10x17 cao',\n '10x17 cao cm',\n '10x20ml 30',\n '10x20ml 30 dây',\n '10x21ml 30',\n '10x21ml 30 dây',\n '11 họa',\n '11 họa tiết',\n '110 150',\n '110 150 ri',\n '110 hằng',\n '110v 10w',\n '111 14',\n '111 14 17',\n '1127 drive',\n '1127 drive nên',\n '116231 mop',\n '118g túi',\n '11ml 26',\n '11ml 26 màu',\n '12 chai',\n '12 cái',\n '12 cái uncle',\n '12 dao',\n '12 dĩa',\n '12 dĩa giấy',\n '12 hũ',\n '12 hũ thủy_tinh',\n '12 loại',\n '12 loại ngũ_cốc',\n '12 ngăn',\n '12 ngăn có',\n '12 years',\n '120 miếng',\n '120 ml',\n '120 ml chính',\n '1200whd 1a',\n '1200whd 1a chính',\n '120gb tháng',\n '120gb tháng và',\n '120v 2019',\n '120v úc',\n '12196 6f',\n '12196 6f chần',\n '125 viên',\n '125ml mẫu',\n '125ml mẫu mới',\n '128 trắng',\n '128 trắng 98',\n '128gb ll',\n '128gb ll new',\n '1299 chống',\n '1299 chống nước',\n '12d 35g',\n '12m 14',\n '12x19cm 1kg',\n '13 ncc18',\n '13 new',\n '13 new girl',\n '134 red',\n '134 red mouse',\n '1380ml hương',\n '1380ml hương bưởi',\n '14 17',\n '14 17 619',\n '14 ba_lô',\n '14 ba_lô đựng',\n '14 giá',\n '14 giá 180k',\n '14 mm',\n '14 mm kính',\n '14k and',\n '14k and clear',\n '14k pnj',\n '14k pnj ddddc000040',\n '15 bánh_phở',\n '15 bánh_phở ba',\n '15 cọ',\n '15 cọ vẽ',\n '15 móc',\n '15 móc phơi',\n '15 years',\n '15 đĩa',\n '15 đĩa giấy',\n '150 miếng',\n '150 miếng thổ',\n '150 quần',\n '150 quần mặc',\n '150 ri',\n '150 ri 10',\n '150 tờ',\n '15000 mah',\n '150gr daedong',\n '150ml 24',\n '150ml nhiều',\n '150ml nhiều màu',\n '157g 롯데',\n '157g 롯데 스카치캔디',\n '15cm sứ',\n '15m03 đầm',\n '15m03 đầm sơ_mi',\n '16 39',\n '16 39 49',\n '16 cm',\n '16 kẹp',\n '16 kẹp camellia',\n '16 món',\n '16 món nice',\n '16 size',\n '16g 99',\n '16g 99 338495',\n '16gb silver',\n '17 619',\n '17 lsc',\n '17 lsc eo',\n '170ml dưỡng',\n '170ml dưỡng ẩm',\n '171 tiết_kiệm',\n '171 tiết_kiệm 30',\n '17cm xanh',\n '17cm xanh dương',\n '18 28',\n '18 28 cm',\n '18 bông',\n '18 bông hồng',\n '18 mạ',\n '18 mạ vàng',\n '18 x3cm',\n '180 tờ',\n '180 tờ lớp',\n '1800ml bằng',\n '1800ml bằng nhựa',\n '180g gói',\n '180ml chọn',\n '180ml chọn màu',\n '180ml hương',\n '180ml hương dâu',\n '185m xl',\n '18k gold',\n '18k gold plated',\n '18k ngọc_trai',\n '18k pnj',\n '18k pnj dây',\n '18m 4y',\n '19 2019',\n '19 edp',\n '19 edp spray',\n '19 lít',\n '19 lít nhập_khẩu',\n '1906 xám',\n '19395 460',\n '1951 bộ',\n '1951 bộ syzanne',\n '199k 2c',\n '1a chính',\n '1ck45 jean_boy',\n '1ck45 jean_boy co',\n '1kg cá_hố',\n '1kg cá_hố khô',\n '1kg thơm',\n '1kg thơm ngon_béo',\n '1l 702',\n '1l t12',\n '1lit hp002',\n '1ly 33',\n '1m2 tấc_hàn',\n '1m2 tấc_hàn quốc_loosy',\n '1m6 1m9',\n '1m6 1m9 chiếu_tre',\n '1m8 1m5',\n '1m8 345',\n '1m9 chiếu_tre',\n '1m9 chiếu_tre chiếu',\n '1x1 3m',\n '1y 5y',\n '1y 5y sz',\n '20 000',\n '20 000 mah',\n '20 25mm',\n '20 25mm 6pcs',\n '20 28',\n '20 28 cm',\n '20 30cm',\n '20 30cm nhiều',\n '20 con',\n '20 con vít',\n '20 cái',\n '20 cái bộ',\n '20 cái nhựa',\n '20 inch',\n '20 inch đen',\n '20 móc',\n '20 móc treo',\n '20 tờ',\n '20 yz60',\n '20 đĩa',\n '20 đĩa cỡ',\n '200 000',\n '200 220',\n '200 cốc',\n '200 cốc ly',\n '200 gói',\n '200 tờ',\n '200 tờ lớp',\n '200g hộp',\n '200ml cho',\n '200ml cho da_thường',\n '200ml lốc',\n '200ml lốc hộp',\n '201 xanh',\n '2013 xám',\n '2013 xám em',\n '2017 blue',\n '2017 blue ba8900',\n '2017 vàng',\n '2018 10000',\n '2018 10000 mah',\n '2018 ipad',\n '2018 ipad gen',\n '2018 trong',\n '2018 trong suốt',\n '2019 mon',\n '2019 mon amie',\n '2019 nắp',\n '2019 nắp gập',\n '20w 9050',\n '211 nq',\n '212bg sl',\n '219 150cm',\n '22 23',\n '22 23 24',\n '22 cm',\n '220ml dau',\n '222 miếng',\n '222 miếng hàng',\n '23 24',\n '23 24 25',\n '2309 dây',\n '2309 dây thép',\n '2360 song',\n '2360 song long',\n '24 25',\n '24 25 26',\n '24 cái',\n '24 cái nĩa',\n '24 fullbox',\n '24 hộp',\n '24 hộp gói',\n '24 inch',\n '24 lon',\n '24 lon 330ml',\n '24 lon bia',\n '24 lon budweiser',\n '24 mỏng',\n '24c thùng',\n '24k italy',\n '24k italy chỉ',\n '25 26',\n '25 26 27',\n '250 7xxx',\n '250 tờ',\n '250 tờ gói',\n '2501 áo',\n '2501 áo kẻ',\n '250ml aqa',\n '250ml aqa peel',\n '250ml nhiều',\n '250ml nhiều màu',\n '25600 đen',\n '25cm 8m',\n '25ml 270281413',\n '25mm 6pcs',\n '25mm 6pcs box',\n '26 27',\n '26 27 28',\n '26 29',\n '26 29 ri',\n '26 màu',\n '262 xanh',\n '262 xanh dam',\n '268 quần',\n '268 quần baggy',\n '27 28',\n '27 28 1ck45',\n '27 gói',\n '28 1ck45',\n '28 1ck45 jean_boy',\n '28 cm',\n '28 k6',\n '28g 10',\n '28g 10 dây',\n '29 ri',\n '29 ri 14',\n '290 j25',\n '290 j25 lightning',\n '291018 xl',\n '2b nữ',\n '2g no',\n '2g no sunshine',\n '2l nội_địa',\n '2l nội_địa nhật_bản',\n '2lb19s005 pb219',\n '2lb19s005 pb219 150',\n '2pe 360ml',\n '2pe 360ml nắp',\n '2s cúp',\n '2s cúp đan',\n '2s version',\n '2s version 2018',\n '30 cm',\n '30 cm trắng',\n '30 dây',\n '30 gas',\n '30 gram',\n '30 gram 72',\n '30 ly',\n '30 ly cong',\n '30 móc',\n '30 móc kẹp',\n '300 gr',\n '300 gr vhomes',\n '300 viên',\n '300 viên trunature',\n '300g ngăn',\n '300g ngăn rụng',\n '300g sáp',\n '300g sáp wax',\n '300gr xanh',\n '300gr xanh dương',\n '300ml nội',\n '300ml nội điạ',\n '3021 cực',\n '3021 cực mạnh',\n '304 dạng_nhỏ',\n '304 ssgp',\n '304 ssgp 18',\n '30cm nhiều',\n '30cm nhiều màu',\n '30w golvina',\n '31 kaki',\n '31 kaki đai',\n '32 lock',\n '32 lock 19',\n '32 đầu',\n '32 đầu đa_năng',\n '32cm chất_liệu',\n '32cm chất_liệu inox',\n '32g gold',\n '32g gold vn',\n '32g tím_đen',\n '32gb 99',\n '32gb hàng',\n '330ml lon',\n '345ow 20kg',\n '35 1l',\n '350g bich',\n '355ml x6',\n '355ml x6 chai',\n '35g giao',\n '36 đến',\n '36 đến 40',\n '360 gol',\n '360 độ',\n '360 độ ko',\n '360 độ phù_hợp',\n '360g tròn',\n '360ml 2pe',\n '360ml nắp',\n '360ml nắp đỏ',\n '365 kids',\n '37 chi_tiết',\n '37 chi_tiết kachi',\n '37 gr',\n '37 gr premium',\n '39 49',\n '3d 1000ml',\n '3d 1000ml x2',\n '3d đáng',\n '3d đáng yêu',\n '3d đỏ_đô',\n '3l nội_địa',\n '3l nội_địa nhật_bản',\n '3p dầy',\n '3w clinic',\n '3w clinic collagen',\n '40 70',\n '40 70 cm',\n '40 chịu',\n '40 chịu nước',\n '40 móc',\n '40 móc treo',\n '40 quả',\n '40 quả có',\n '40 độ',\n '40 độ 1l',\n '40 độ đạm',\n '400g 해태',\n '400g 해태 쫄깃한',\n '400ml tặng',\n '400ml tặng kèm',\n '400ml wai',\n '41 nam',\n '43 000',\n '43 000 phút',\n '430 610',\n '430 610 xám',\n '435g 750ml',\n '44 63',\n '44 63 cm',\n '49 đỏ',\n '49 đỏ trắng',\n '4c th',\n '4f rd',\n '4g viettel',\n '4g viettel mt5c',\n '4g viettel v90',\n '4g vinaphone',\n '4g vinaphone vd89p',\n '50 30',\n '50 30 cm',\n '50 chiếc',\n '50 chiếc bát',\n '50 mặt_nạ',\n '50 mặt_nạ ẩm_dưỡng',\n '50 nút',\n '50 nút màu',\n '50 túi',\n '50 túi pe',\n '500 ly',\n '500 ly giấy',\n '5005 mút',\n '5005 mút xoài',\n '500g malaysia',\n '500g malaysia combo10',\n '500g táo',\n '500g tẩy',\n '500g tẩy trắng',\n '500ml 12',\n '500ml 12 chai',\n '507 gói',\n '507 gói 12',\n '50cm 50cm',\n '50cm sen',\n '50cm sen vàng',\n '50d hình',\n '50d hình cong',\n '50g 117',\n '50w yd',\n '50w yd 5250',\n '5132 nâu',\n '5132 nâu s5',\n '518 240py',\n '528 lửa',\n '528 lửa cực',\n '55 lít',\n '56 u2',\n '56 u2 đổi',\n '572 r8qc',\n '58g xanh',\n '58g xanh duong',\n '5cm chiều',\n '5cm chiều cao',\n '5g hộp',\n '5l 4c',\n '5l 4c th',\n '5l hương',\n '5l hương táo',\n '5l nrt5l',\n '5ml julyhouse',\n '5ml spf15',\n '5ml spf15 pa',\n '5oz 150ml',\n '5oz 150ml nhiều',\n '5oz 180ml',\n '5oz 180ml chọn',\n '5oz nhiều',\n '5oz nhiều màu',\n '5p đế',\n '5p đế vuông',\n '5s cáp',\n '5s cáp wifi',\n '5s đen',\n '5y sz',\n '5y sz 80',\n '60 90cm',\n '60 màu',\n '600g mv',\n '600ml thái_lan',\n '6043 đen',\n '6043 đen sz',\n '609 hàng',\n '609 hàng chính',\n '610 xám',\n '6278 40',\n '62gb miễn_phí',\n '62gb miễn_phí nghe',\n '63 cm',\n '63 cm trắng',\n '64g 801962',\n '64g 801962 ah',\n '64g 99',\n '64g 99 246563',\n '64gb fullbox',\n '64gb fullbox fpt',\n '64gb vàng_01086',\n '6625 vẩy_nhẹ',\n '6625 vẩy_nhẹ xẻ_đùi',\n '668 20',\n '668 20 yz60',\n '67376739 sữa',\n '67376739 sữa tắm',\n '6e 59cn',\n '6f chần',\n '6f chần chỉ',\n '6ly dài',\n '6ly dài 40cm',\n '6ml 06',\n '6ml 06 framboiselle',\n '6p 64gb',\n '6p 64gb vàng_01086',\n '6p zin',\n '6p zin 250',\n '6pcs box',\n '6s 16gb',\n '6s 16gb silver',\n '6s 32',\n '6s 32 lock',\n '6s grey',\n '6s grey 16g',\n '6s plus',\n '70 300',\n '70 300 gr',\n '70 cm',\n '700ml có',\n '700ml có ngăn',\n '700ml siro',\n '700ml siro golden',\n '70w màu',\n '70w màu vàng',\n '72 1178',\n '72 gói',\n '750ml dalatbeco',\n '750ml kèm',\n '750ml kèm nắp',\n '75g default',\n '75g default title',\n '75ml hồ_ly',\n '779 đen',\n '779 đen đỏ',\n '7806 quần_âu',\n '7806 quần_âu nam',\n '7f tl25',\n '7mm chắc_chắn',\n '7oz 250ml',\n '7oz 250ml nhiều',\n '7oz chọn',\n '7oz chọn màu',\n '7th wifi',\n '80 12',\n '800004 31',\n '800004 31 kaki',\n '800g hệ',\n '800g hệ bọt',\n '800g tâm',\n '800g tâm đức',\n '801962 ah',\n '80g t40',\n '80k 6b',\n '81g 100ml',\n '85 105',\n '8589 s200',\n '8589 s200 huyền',\n '870 bát',\n '870 bát giấy',\n '88 black',\n '8825 da',\n '8825 da thổ_dân',\n '8inch mr',\n '8inch mr ace',\n '8ml k79',\n '8ml k79 dành',\n '8pl64g vàng',\n '90 cái',\n '90 cái giá',\n '90 mt',\n '90 mt 901011',\n '90 point',\n '90 point luggage',\n '9008 tanktop',\n '903 bb',\n '903 bb s190',\n '907 đen',\n '9071 dha062',\n '90gb mỗi',\n '90gb mỗi tháng',\n '91w 1dg',\n '92 300ml',\n '925 hy_vọng',\n '925 hy_vọng xanh',\n '925 nữ',\n '925 nữ cá_tính',\n '925 sterling',\n '925 sterling silver',\n '925 trăng',\n '925 trăng sao',\n '9325 so',\n '9325 so mi',\n '9720 muỗng',\n '9720 muỗng cơm',\n '982 ju1231',\n '982 ju1231 bac',\n '99 246563',\n '99 338495',\n '99102 bom',\n '99102 bom cạp',\n '9920b dienthoai',\n '9920b dienthoai tp',\n '9th 16gb',\n 'a1 500gr',\n 'a217 xanh',\n 'a217 xanh táo',\n 'a3s 32g',\n 'a3s 32g tím_đen',\n 'a3s blp673',\n 'a3s mặt',\n 'a3s mặt sau',\n 'a693 đen',\n 'a7 a5s',\n 'a83 trắng',\n 'a83 trắng zin',\n 'a_di_đà đứng',\n 'a_di_đà đứng sơn',\n 'aaa jeans',\n 'aaa jeans dáng',\n 'aaa jeans skinny',\n 'aaa nam',\n 'aaa nam nhẫn',\n 'abbott glucerna',\n 'abbott glucerna hương',\n 'abc túi',\n 'abc túi 1kg',\n 'abf16 16',\n 'abf16 16 size',\n 'absolute organic',\n 'absolute organic 1kg',\n 'ace homme',\n 'ace homme mr19a1450b01',\n 'ace homme mr19a1509b01',\n 'acne solution',\n 'acne solution cliniqueical',\n 'active cpo',\n 'add đen',\n 'add đen viền',\n 'adidas amd',\n 'adidas amd 42',\n 'adidas chống',\n 'adidas chống trộm',\n 'adidas footwear',\n 'adidas footwear alphabounce',\n 'adidas pro',\n 'adidas pro xám',\n 'adidas thun',\n 'adidas thun lạnh',\n 'adidasss bé',\n 'adidasss bé trai',\n 'adm gold',\n 'adm gold chai',\n 'affair teatree',\n 'aging lotion',\n 'aging lotion 100ml',\n 'air 2019',\n 'air 2019 nắp',\n 'air 43',\n 'air fit',\n 'air fit slim',\n 'air max',\n 'air max oketo',\n 'airy 01',\n 'ak das',\n 'ak das 49',\n 'all boot',\n 'all boot gsm',\n 'almond 19g',\n 'almond milk',\n 'aloe vera',\n 'aloe vera 92',\n 'alphabounce beyond',\n 'amd 42',\n 'american explorer',\n 'american explorer crockett',\n 'amie 32',\n 'amie suitvercelli01',\n 'amie suitvercelli2',\n 'amie suitvercelli2 02',\n 'amie super',\n 'amie super black',\n 'an chai',\n 'an chai 1l',\n 'an chai 400ml',\n 'an liễu',\n 'an vĩnh',\n 'an vĩnh gói',\n 'an107 áo',\n 'an107 áo kiểu',\n 'an_giang basa',\n 'an_giang basa fillet',\n 'and clear',\n 'and clear cubic',\n 'and cream',\n 'android camera_kép',\n 'anglade reserv',\n 'anh khuê_ae',\n 'anh khuê_ae 1200whd',\n 'anh vani',\n 'anh vani 400g',\n 'ankle boot',\n 'ankle boot nữ',\n 'anotex primer',\n 'anotex primer 18l',\n 'ansu silicon',\n 'anti aging',\n 'anti aging lotion',\n 'anu thun',\n 'anu thun xuat',\n 'ao hoa',\n 'ao hoa dior',\n 'ao len',\n 'ao len lo',\n 'ao lot',\n 'ao lot 1339',\n 'ao soc',\n 'ao soc xoe',\n 'ao von',\n 'ao von bech',\n 'ao_da qc',\n 'ao_da qc 1150',\n 'apacs virtus',\n 'apacs virtus 779',\n 'apple 0mg',\n 'april skin',\n 'april skin magic',\n 'aqa peel',\n 'aqua rich',\n 'aqua rich watery',\n 'aquafina chai',\n 'arch sầu_riêng',\n 'arch sầu_riêng vàng',\n 'archcafe 180ml',\n 'aristino abf16',\n 'aristino abf16 16',\n 'aroma eyelash',\n 'aroma eyelash curler',\n 'aroma floral',\n 'aroma floral 750ml',\n 'arr kute',\n 'asos caro',\n 'asos đen',\n 'asos đen cao_cấp',\n 'at nike',\n 'at nike phối',\n 'at đen',\n 'at đen say',\n 'at017 trắng',\n 'at017 trắng xl',\n 'auto forcus',\n 'axo chai',\n 'axo chai hồng',\n 'b042t trắng',\n 'b220 đen',\n 'b2b hv',\n 'b2b hv thảm',\n 'ba cây',\n 'ba cây tre',\n 'ba số',\n 'ba số ngoại',\n 'ba tượng',\n 'ba tượng phật',\n 'ba_lô bball',\n 'ba_lô bball xanh',\n 'ba_lô du_lịch',\n 'ba_lô du_lịch ngoài_trời',\n 'ba_lô đựng',\n 'ba_lô đựng laptop',\n 'ba_rọi xông',\n 'ba_rọi xông khói',\n 'baby 200g',\n 'baby biscuit',\n 'baby biscuit 320g',\n 'baby sen',\n 'baby sen việt',\n 'baby terra',\n 'baby terra sk6',\n 'baby tone',\n 'baby tone up',\n 'baby việt',\n 'baby việt mỹ',\n 'babydoll tay',\n 'babydoll tay cánh',\n 'babydoll thêu',\n 'babydoll thêu hoa',\n 'baggy 9188',\n 'baggy jean',\n 'baggy jean kaki',\n 'baggy nữ',\n 'baggy nữ big',\n 'baggy rach',\n 'baggy rach nhiều',\n 'baggy đũi',\n 'baggy đũi xuất_nhật',\n 'baking soda',\n 'baking soda sesuki',\n 'balm 5ml',\n 'balm 5ml spf15',\n 'balo 24l',\n 'balo adidas',\n 'balo adidas chống',\n 'balo coolbell',\n 'balo coolbell 7002',\n 'balo cắt',\n 'balo cắt đầu',\n 'balo da',\n 'balo da bóng',\n 'balo da mini',\n 'balo da nữ',\n 'balo du_lịch',\n 'balo du_lịch glado',\n 'balo du_lịch phượt',\n 'balo du_lịch đi',\n 'balo laptop',\n 'balo laptop balo',\n 'balo laptop bllt677',\n 'balo laptop hàn_quốc',\n 'balo laptop lenovo',\n 'balo mini',\n 'balo mini 591839862477',\n 'balo mini nữ_sinh',\n 'balo mini phối',\n 'balo món',\n 'balo nam',\n 'balo nam chống',\n 'balo nơ_mini',\n 'balo nơ_mini balo',\n 'balo nữ',\n 'balo nữ mini',\n 'balo nữ pu',\n 'balo nữ đính',\n 'balo tán',\n 'balo tán đinh_mini',\n 'balo đi',\n 'balo đi chơi',\n 'balo đi học',\n 'bamoer free',\n 'bamoer free shpping',\n 'bamoer mạ',\n 'bamoer mạ bạc',\n 'bamoer mạ mùa',\n 'banh da',\n 'banh da nem',\n 'banh gau',\n 'banh gau oilano',\n 'banh rinny',\n 'banh rinny 38g',\n 'bank eye',\n 'bank eye gelex',\n 'bao da',\n 'bao da bàn_phím',\n 'bao da kaku',\n 'bao ngầu',\n 'bao_tay chống',\n 'bao_tay chống nắng',\n 'bao_tay màu',\n 'bao_tử bóng',\n 'bao_tử lv',\n 'bao_tử lv grap',\n 'baodi weide',\n 'baodi weide zbn23dd1',\n 'bar 2g',\n 'bar 2g no',\n 'bar collection',\n 'baron anglade',\n 'baron anglade reserv',\n 'basa fillet',\n 'basa fillet 250g',\n 'base rich',\n 'base rich hộp',\n 'bath body',\n 'bath body works',\n 'baum marble',\n 'baum marble 20cm',\n 'bavi sca',\n 'bavi sca có',\n ...]"
          },
          "metadata": {}
        }
      ]
    },
    {
      "metadata": {
        "trusted": true
      },
      "cell_type": "code",
      "source": "# ngram-char level - we choose max number of words equal to 30000 except all words (100k+ words)\ntfidf_vect_ngram_char = TfidfVectorizer(analyzer='char', max_features=30000, ngram_range=(2, 3))\ntfidf_vect_ngram_char.fit(X_data)\nX_data_tfidf_ngram_char =  tfidf_vect_ngram_char.transform(X_data)\n# assume that we don't have test set before\nX_test_tfidf_ngram_char =  tfidf_vect_ngram_char.transform(X_test)",
      "execution_count": 13,
      "outputs": []
    },
    {
      "metadata": {
        "trusted": true
      },
      "cell_type": "code",
      "source": "from sklearn.decomposition import TruncatedSVD",
      "execution_count": 14,
      "outputs": []
    },
    {
      "metadata": {
        "trusted": true
      },
      "cell_type": "code",
      "source": "svd = TruncatedSVD(n_components=300, random_state=42)\nsvd.fit(X_data_tfidf)",
      "execution_count": 15,
      "outputs": [
        {
          "output_type": "execute_result",
          "execution_count": 15,
          "data": {
            "text/plain": "TruncatedSVD(algorithm='randomized', n_components=300, n_iter=5,\n       random_state=42, tol=0.0)"
          },
          "metadata": {}
        }
      ]
    },
    {
      "metadata": {
        "trusted": true
      },
      "cell_type": "code",
      "source": "X_data_tfidf_svd = svd.transform(X_data_tfidf)\nX_test_tfidf_svd = svd.transform(X_test_tfidf)",
      "execution_count": 16,
      "outputs": []
    },
    {
      "metadata": {
        "trusted": true
      },
      "cell_type": "code",
      "source": "svd_ngram = TruncatedSVD(n_components=300, random_state=42)\nsvd_ngram.fit(X_data_tfidf_ngram)",
      "execution_count": 17,
      "outputs": [
        {
          "output_type": "execute_result",
          "execution_count": 17,
          "data": {
            "text/plain": "TruncatedSVD(algorithm='randomized', n_components=300, n_iter=5,\n       random_state=42, tol=0.0)"
          },
          "metadata": {}
        }
      ]
    },
    {
      "metadata": {
        "trusted": true
      },
      "cell_type": "code",
      "source": "X_data_tfidf_ngram_svd = svd_ngram.transform(X_data_tfidf_ngram)\nX_test_tfidf_ngram_svd = svd_ngram.transform(X_test_tfidf_ngram)",
      "execution_count": 18,
      "outputs": []
    },
    {
      "metadata": {
        "trusted": true
      },
      "cell_type": "code",
      "source": "svd_ngram_char = TruncatedSVD(n_components=300, random_state=42)\nsvd_ngram_char.fit(X_data_tfidf_ngram_char)",
      "execution_count": 19,
      "outputs": [
        {
          "output_type": "execute_result",
          "execution_count": 19,
          "data": {
            "text/plain": "TruncatedSVD(algorithm='randomized', n_components=300, n_iter=5,\n       random_state=42, tol=0.0)"
          },
          "metadata": {}
        }
      ]
    },
    {
      "metadata": {
        "trusted": true
      },
      "cell_type": "code",
      "source": "X_data_tfidf_ngram_char_svd = svd_ngram_char.transform(X_data_tfidf_ngram_char)\nX_test_tfidf_ngram_char_svd = svd_ngram_char.transform(X_test_tfidf_ngram_char)",
      "execution_count": 20,
      "outputs": []
    },
    {
      "metadata": {
        "trusted": true
      },
      "cell_type": "code",
      "source": "import os\nfrom gensim.models import KeyedVectors \ndir_path = os.path.dirname(os.path.realpath(os.getcwd()))\nword2vec_model_path = os.path.join(\"Data/vi/vi.vec\")\n\nw2v = KeyedVectors.load_word2vec_format(word2vec_model_path)\nvocab = w2v.wv.vocab\nwv = w2v.wv",
      "execution_count": 21,
      "outputs": [
        {
          "output_type": "stream",
          "text": "/home/nbuser/anaconda3_501/lib/python3.6/site-packages/ipykernel/__main__.py:7: DeprecationWarning: Call to deprecated `wv` (Attribute will be removed in 4.0.0, use self instead).\n/home/nbuser/anaconda3_501/lib/python3.6/site-packages/ipykernel/__main__.py:8: DeprecationWarning: Call to deprecated `wv` (Attribute will be removed in 4.0.0, use self instead).\n",
          "name": "stderr"
        }
      ]
    },
    {
      "metadata": {
        "trusted": true
      },
      "cell_type": "code",
      "source": "def get_word2vec_data(X):\n    word2vec_data = []\n    for x in X:\n        sentence = []\n        for word in x.split(\" \"):\n            if word in vocab:\n#                 print(word)\n                sentence.append(wv[word])\n\n        word2vec_data.append(sentence)\n#         break\n    return word2vec_data\n\nX_data_w2v = get_word2vec_data(X_data)\nX_test_w2v = get_word2vec_data(X_test)",
      "execution_count": 22,
      "outputs": []
    },
    {
      "metadata": {
        "trusted": true
      },
      "cell_type": "code",
      "source": "encoder = preprocessing.LabelEncoder()\ny_data_n = encoder.fit_transform(y_data)\ny_test_n = encoder.fit_transform(y_test)",
      "execution_count": 23,
      "outputs": []
    },
    {
      "metadata": {
        "trusted": true
      },
      "cell_type": "code",
      "source": "encoder.classes_\n",
      "execution_count": 24,
      "outputs": [
        {
          "output_type": "execute_result",
          "execution_count": 24,
          "data": {
            "text/plain": "array(['Balo du lịch, phượt', 'Balo, cặp đựng laptop',\n       'Balo, túi, cặp & phụ kiện khác', 'Bàn chải đánh răng', 'Bánh',\n       'Bánh kẹo khác', 'Bình đựng nước', 'Bình, ấm, đồ dùng uống trà',\n       'Bóng đèn', 'Băng vệ sinh', 'Bật lửa, diêm', 'Bếp gas, bếp lò',\n       'Bộ chăm sóc da mặt', 'Ca đựng nước', 'Chiếu', 'Chân váy',\n       'Chén đĩa dùng một lần', 'Chăm sóc móng', 'Chăn, mền và phụ kiện',\n       'Chảo, chảo chống dính', 'Chống lão hóa', 'Chổi quét nhà, lau nhà',\n       'Cài Áo', 'Cá hộp', 'Dung dịch vệ sinh nhà tắm',\n       'Dây chuyền, vòng cổ, mặt dây chuyền nữ', 'Dưỡng Thể',\n       'Dưỡng trắng', 'Dưỡng tóc, ủ tóc', 'Dưỡng ẩm', 'Dầu gội, dầu xả',\n       'Dầu ăn', 'Dụng cụ cạo râu', 'Dụng cụ diệt côn trùng khác',\n       'Dụng cụ sửa chữa khác', 'Dụng cụ trang điểm', 'Dụng cụ tẩy trang',\n       'Gia vị dạng bột', 'Giày boots nữ', 'Giày búp bê', 'Giày cao gót',\n       'Giày dép Nam/Nữ', 'Giày dép bé gái', 'Giày dép nam khác',\n       'Giày dép nữ khác', 'Giày sneakers nam', 'Giày sneakers nữ',\n       'Giày, dép sandals nữ', 'Gối và phụ kiện', 'Hạt, củ, quả khô',\n       'Hộp + Thùng đựng thực phẩm', 'Jumpsuits, set đồ nữ',\n       'Kem - Thuốc đánh răng', 'Kem tươi', 'Kem đóng gói, hộp', 'Khay',\n       'Khăn', 'Khăn giấy ướt', 'Kính áp tròng', 'Kẹo', 'Kẹp gắp',\n       'Linh kiện điện thoại', 'Ly dùng một lần',\n       'Lược, băng đô, lô quấn tóc', 'Lọ, Bình hoa trang trí',\n       'Miếng dán màn hình điện thoại', 'Máy tính bảng',\n       'Móc treo, kẹp quần áo', 'Móc treo, móc dán tường',\n       'Mũ nón Nam/Nữ', 'Mũ, Nón nữ', 'Mắt kính khác', 'Mặt nạ dưỡng da',\n       'Ngũ cốc, bột pha chế', 'Nước giặt, nước xả',\n       'Nước hoa hồng, toner', 'Nước hoa nữ', 'Nước rửa tay',\n       'Nước tẩy giặt ủi', 'Nồi, bộ nồi và phụ kiện', 'Phô mai, bơ',\n       'Phụ kiện balo, túi, cặp', 'Phụ kiện dệt, may, thêu',\n       'Phụ kiện điện thoại khác', 'Phụ kiện đèn', 'Pin sạc dự phòng',\n       'Quần Nam/Nữ', 'Quần jean nữ', 'Quần jeans nam', 'Quần legging nữ',\n       'Quần lót nữ', 'Quần nam khác', 'Quần nữ khác', 'Quần shorts nữ',\n       'Quần thun, jogger nữ', 'Quần tây nam', 'Quần áo, Dép nhà tắm',\n       'Rau ăn củ, quả', 'Rau ăn lá', 'Rau ăn thân', 'Rượu mạnh',\n       'Rượu vang', 'Set quần áo Nam/Nữ', 'Snack', 'Socola',\n       'Sơn, dầu mỡ, hóa chất', 'Sạc điện thoại, máy tính bảng',\n       'Sản phẩm chăm sóc cá nhân khác', 'Sản phẩm chăm sóc cơ thể khác',\n       'Sản phẩm chăm sóc da khác', 'Sản phẩm chăm sóc tóc khác',\n       'Sản phẩm chống nắng và phục hồi', 'Sản phẩm khử mùi',\n       'Sản phẩm tinh dầu', 'Sản phẩm trị mụn', 'Sản phẩm từ sữa khác',\n       'Sản phẩm, dụng cụ tẩy lông', 'Sữa bột', 'Sữa chua', 'Sữa nước',\n       'Sữa tắm, xà bông, muối tắm', 'Sữa đặc',\n       'Thau, chậu, ca nước nhà tắm', 'Thiết bị chiếu sáng khác',\n       'Thuốc duỗi, uốn', 'Thuốc lá', 'Thuốc nhuộm tóc', 'Thạch rau câu',\n       'Thảm chùi chân', 'Thắt lưng, dây nịt nam',\n       'Thắt lưng, dây nịt nữ', 'Thịt gia cầm',\n       'Thời trang - phụ kiện cho bé không phân biệt giới tính',\n       'Thủy - Hải sản khô', 'Thủy - Hải sản đông lạnh',\n       'Thực phẩm chức năng khác', 'Thực phẩm chức năng sức khỏe',\n       'Thực phẩm ăn liền', 'Thực phẩm đã qua chế biến khác',\n       'Trang phục bé gái', 'Trang phục bé trai',\n       'Trang trí nhà cửa khác', 'Trang điểm môi', 'Trang điểm mắt',\n       'Trang điểm mặt', 'Trà', 'Trái cây tươi', 'Tua vít', 'Túi tote nữ',\n       'Túi xách tay nữ', 'Túi đeo chéo, túi đeo vai nữ',\n       'Túi, màng đựng thực phẩm', 'Tượng Phật', 'Tất, vớ nam',\n       'Tất, vớ nữ', 'Tẩy tế bào chết, massage', 'Vali', 'Vá, sạn, vợt',\n       'Váy chống nắng, khẩu trang', 'Ví nữ',\n       'Vòng, lắc tay, lắc chân nữ', 'Vải', 'Áo Nam/Nữ', 'Áo khoác nam',\n       'Áo khoác nữ', 'Áo len, áo cardigan, áo hoodie nam', 'Áo ngực',\n       'Áo sơ mi nam', 'Áo sơ mi nữ', 'Áo thun nữ', 'Đinh, vít, nở',\n       'Điện thoại', 'Đèn thờ dầu', 'Đèn xông tinh dầu spa',\n       'Đũa, muỗng, nĩa', 'Đầm nữ', 'Đồ bơi nam', 'Đồ bơi nữ',\n       'Đồ dùng nhà tắm khác', 'Đồ dùng phòng bếp khác', 'Đồ hộp khác',\n       'Đồ lót, đồ ngủ nam', 'Đồ ngủ nữ', 'Đồ uống có gas',\n       'Đồ uống không có gas', 'Đồ uống pha chế khác', 'Đồ vest nữ',\n       'Đồng hồ khác', 'Đồng hồ nam', 'Đồng hồ nữ', 'Ống đũa',\n       'Ốp lưng máy tính bảng', 'Ốp lưng điện thoại'], dtype=object)"
          },
          "metadata": {}
        }
      ]
    },
    {
      "metadata": {
        "trusted": true
      },
      "cell_type": "code",
      "source": "def train_model(classifier, X_data, y_data, X_test, y_test, is_neuralnet=False, n_epochs=3):       \n    X_train, X_val, y_train, y_val = train_test_split(X_data, y_data, test_size=0.1, random_state=42)\n    \n    if is_neuralnet:\n        classifier.fit(X_train, y_train, validation_data=(X_val, y_val), epochs=n_epochs, batch_size=512)\n        \n        val_predictions = classifier.predict(X_val)\n        test_predictions = classifier.predict(X_test)\n        val_predictions = val_predictions.argmax(axis=-1)\n        test_predictions = test_predictions.argmax(axis=-1)\n    else:\n        classifier.fit(X_train, y_train)\n    \n        train_predictions = classifier.predict(X_train)\n        val_predictions = classifier.predict(X_val)\n        test_predictions = classifier.predict(X_test)\n        \n    print(\"Validation accuracy: \", metrics.accuracy_score(val_predictions, y_val))\n    print(\"Test accuracy: \", metrics.accuracy_score(test_predictions, y_test))",
      "execution_count": 25,
      "outputs": []
    },
    {
      "metadata": {
        "trusted": true
      },
      "cell_type": "code",
      "source": "train_model(naive_bayes.MultinomialNB(), X_data_tfidf, y_data, X_test_tfidf, y_test, is_neuralnet=False)",
      "execution_count": 26,
      "outputs": [
        {
          "output_type": "stream",
          "text": "Validation accuracy:  0.06018518518518518\nTest accuracy:  0.06319702602230483\n",
          "name": "stdout"
        }
      ]
    },
    {
      "metadata": {
        "trusted": true
      },
      "cell_type": "code",
      "source": "train_model(naive_bayes.BernoulliNB(), X_data_tfidf, y_data, X_test_tfidf, y_test, is_neuralnet=False)",
      "execution_count": 27,
      "outputs": [
        {
          "output_type": "stream",
          "text": "Validation accuracy:  0.023148148148148147\nTest accuracy:  0.02973977695167286\n",
          "name": "stdout"
        }
      ]
    },
    {
      "metadata": {
        "trusted": true
      },
      "cell_type": "code",
      "source": "train_model(linear_model.LogisticRegression(), X_data_tfidf, y_data, X_test_tfidf, y_test, is_neuralnet=False)",
      "execution_count": 28,
      "outputs": [
        {
          "output_type": "stream",
          "text": "/home/nbuser/anaconda3_501/lib/python3.6/site-packages/sklearn/linear_model/logistic.py:433: FutureWarning: Default solver will be changed to 'lbfgs' in 0.22. Specify a solver to silence this warning.\n  FutureWarning)\n/home/nbuser/anaconda3_501/lib/python3.6/site-packages/sklearn/linear_model/logistic.py:460: FutureWarning: Default multi_class will be changed to 'auto' in 0.22. Specify the multi_class option to silence this warning.\n  \"this warning.\", FutureWarning)\n",
          "name": "stderr"
        },
        {
          "output_type": "stream",
          "text": "Validation accuracy:  0.16203703703703703\nTest accuracy:  0.24349442379182157\n",
          "name": "stdout"
        }
      ]
    },
    {
      "metadata": {
        "trusted": true
      },
      "cell_type": "code",
      "source": "train_model(svm.SVC(), X_data_tfidf, y_data, X_test_tfidf, y_test, is_neuralnet=False)\n",
      "execution_count": 29,
      "outputs": [
        {
          "output_type": "stream",
          "text": "/home/nbuser/anaconda3_501/lib/python3.6/site-packages/sklearn/svm/base.py:196: FutureWarning: The default value of gamma will change from 'auto' to 'scale' in version 0.22 to account better for unscaled features. Set gamma explicitly to 'auto' or 'scale' to avoid this warning.\n  \"avoid this warning.\", FutureWarning)\n",
          "name": "stderr"
        },
        {
          "output_type": "stream",
          "text": "Validation accuracy:  0.023148148148148147\nTest accuracy:  0.02973977695167286\n",
          "name": "stdout"
        }
      ]
    },
    {
      "metadata": {
        "trusted": true
      },
      "cell_type": "code",
      "source": "train_model(ensemble.RandomForestClassifier(), X_data_tfidf, y_data, X_test_tfidf, y_test, is_neuralnet=False)",
      "execution_count": 30,
      "outputs": [
        {
          "output_type": "stream",
          "text": "/home/nbuser/anaconda3_501/lib/python3.6/site-packages/sklearn/ensemble/forest.py:246: FutureWarning: The default value of n_estimators will change from 10 in version 0.20 to 100 in 0.22.\n  \"10 in version 0.20 to 100 in 0.22.\", FutureWarning)\n",
          "name": "stderr"
        },
        {
          "output_type": "stream",
          "text": "Validation accuracy:  0.4722222222222222\nTest accuracy:  0.4962825278810409\n",
          "name": "stdout"
        }
      ]
    },
    {
      "metadata": {
        "trusted": true
      },
      "cell_type": "code",
      "source": "\ndef create_dnn_model():\n    input_layer = Input(shape=(300,))\n    layer = Dense(1024, activation='relu')(input_layer)\n    layer = Dense(1024, activation='relu')(layer)\n    layer = Dense(512, activation='relu')(layer)\n    output_layer = Dense(10, activation='softmax')(layer)\n    \n    classifier = models.Model(input_layer, output_layer)\n    classifier.compile(optimizer=optimizers.Adam(), loss='sparse_categorical_crossentropy', metrics=['accuracy'])\n    \n    return classifier",
      "execution_count": 31,
      "outputs": []
    },
    {
      "metadata": {
        "trusted": true
      },
      "cell_type": "code",
      "source": "\ndef create_brnn_model():\n    input_layer = Input(shape=(300,))\n    \n    layer = Reshape((10, 30))(input_layer)\n    layer = Bidirectional(GRU(128, activation='relu'))(layer)\n    layer = Dense(512, activation='relu')(layer)\n    layer = Dense(512, activation='relu')(layer)\n    layer = Dense(128, activation='relu')(layer)\n    \n    output_layer = Dense(10, activation='softmax')(layer)\n    \n    classifier = models.Model(input_layer, output_layer)\n    \n    classifier.compile(optimizer=optimizers.Adam(), loss='sparse_categorical_crossentropy', metrics=['accuracy'])\n    \n    return classifier",
      "execution_count": 32,
      "outputs": []
    },
    {
      "metadata": {
        "trusted": true
      },
      "cell_type": "code",
      "source": "\n",
      "execution_count": null,
      "outputs": []
    },
    {
      "metadata": {
        "trusted": true
      },
      "cell_type": "code",
      "source": "#create_brnn_model(X_data_tfidf, y_data_n, X_test_tfidf, n_epochs=3)",
      "execution_count": 34,
      "outputs": []
    },
    {
      "metadata": {
        "trusted": true
      },
      "cell_type": "code",
      "source": "from sklearn import tree",
      "execution_count": 35,
      "outputs": []
    },
    {
      "metadata": {
        "trusted": true
      },
      "cell_type": "code",
      "source": "clf = tree.DecisionTreeClassifier()",
      "execution_count": 36,
      "outputs": []
    },
    {
      "metadata": {
        "trusted": true
      },
      "cell_type": "code",
      "source": "train_model(clf, X_data_tfidf, y_data, X_test_tfidf, y_test, is_neuralnet=False)",
      "execution_count": 37,
      "outputs": [
        {
          "output_type": "stream",
          "text": "Validation accuracy:  0.49074074074074076\nTest accuracy:  0.4758364312267658\n",
          "name": "stdout"
        }
      ]
    },
    {
      "metadata": {
        "trusted": true
      },
      "cell_type": "code",
      "source": "",
      "execution_count": null,
      "outputs": []
    }
  ],
  "metadata": {
    "kernelspec": {
      "name": "python36",
      "display_name": "Python 3.6",
      "language": "python"
    },
    "language_info": {
      "mimetype": "text/x-python",
      "nbconvert_exporter": "python",
      "name": "python",
      "pygments_lexer": "ipython3",
      "version": "3.6.6",
      "file_extension": ".py",
      "codemirror_mode": {
        "version": 3,
        "name": "ipython"
      }
    }
  },
  "nbformat": 4,
  "nbformat_minor": 2
}