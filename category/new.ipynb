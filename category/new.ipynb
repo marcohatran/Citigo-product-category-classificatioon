{
  "cells": [
    {
      "metadata": {
        "trusted": true
      },
      "cell_type": "code",
      "source": "from sklearn.externals import joblib\nimport pandas as pd\nfrom pyvi import ViTokenizer",
      "execution_count": 1,
      "outputs": []
    },
    {
      "metadata": {
        "trusted": true
      },
      "cell_type": "code",
      "source": "model = joblib.load('model.pkl')",
      "execution_count": 2,
      "outputs": [
        {
          "output_type": "stream",
          "text": "/home/nbuser/anaconda3_501/lib/python3.6/site-packages/sklearn/base.py:253: UserWarning: Trying to unpickle estimator CountVectorizer from version 0.19.1 when using version 0.20.3. This might lead to breaking code or invalid results. Use at your own risk.\n  UserWarning)\n/home/nbuser/anaconda3_501/lib/python3.6/site-packages/sklearn/base.py:253: UserWarning: Trying to unpickle estimator TfidfTransformer from version 0.19.1 when using version 0.20.3. This might lead to breaking code or invalid results. Use at your own risk.\n  UserWarning)\n/home/nbuser/anaconda3_501/lib/python3.6/site-packages/sklearn/base.py:253: UserWarning: Trying to unpickle estimator LabelBinarizer from version 0.19.1 when using version 0.20.3. This might lead to breaking code or invalid results. Use at your own risk.\n  UserWarning)\n/home/nbuser/anaconda3_501/lib/python3.6/site-packages/sklearn/base.py:253: UserWarning: Trying to unpickle estimator LinearSVC from version 0.19.1 when using version 0.20.3. This might lead to breaking code or invalid results. Use at your own risk.\n  UserWarning)\n/home/nbuser/anaconda3_501/lib/python3.6/site-packages/sklearn/base.py:253: UserWarning: Trying to unpickle estimator OneVsRestClassifier from version 0.19.1 when using version 0.20.3. This might lead to breaking code or invalid results. Use at your own risk.\n  UserWarning)\n/home/nbuser/anaconda3_501/lib/python3.6/site-packages/sklearn/base.py:253: UserWarning: Trying to unpickle estimator Pipeline from version 0.19.1 when using version 0.20.3. This might lead to breaking code or invalid results. Use at your own risk.\n  UserWarning)\n",
          "name": "stderr"
        }
      ]
    },
    {
      "metadata": {
        "trusted": true
      },
      "cell_type": "code",
      "source": "dfl = pd.read_csv(\"list_2.csv\", encoding = \"utf-8\")\ndfl.head()",
      "execution_count": 3,
      "outputs": [
        {
          "output_type": "execute_result",
          "execution_count": 3,
          "data": {
            "text/html": "<div>\n<style scoped>\n    .dataframe tbody tr th:only-of-type {\n        vertical-align: middle;\n    }\n\n    .dataframe tbody tr th {\n        vertical-align: top;\n    }\n\n    .dataframe thead th {\n        text-align: right;\n    }\n</style>\n<table border=\"1\" class=\"dataframe\">\n  <thead>\n    <tr style=\"text-align: right;\">\n      <th></th>\n      <th>Level 3</th>\n      <th>Level 2</th>\n      <th>Level 1</th>\n      <th>le</th>\n    </tr>\n  </thead>\n  <tbody>\n    <tr>\n      <th>0</th>\n      <td>Cá</td>\n      <td>Cá</td>\n      <td>Chăm sóc thú cưng</td>\n      <td>NaN</td>\n    </tr>\n    <tr>\n      <th>1</th>\n      <td>Chim</td>\n      <td>Chim</td>\n      <td>Chăm sóc thú cưng</td>\n      <td>NaN</td>\n    </tr>\n    <tr>\n      <th>2</th>\n      <td>Chó</td>\n      <td>Chó</td>\n      <td>Chăm sóc thú cưng</td>\n      <td>NaN</td>\n    </tr>\n    <tr>\n      <th>3</th>\n      <td>Hamster</td>\n      <td>Hamster</td>\n      <td>Chăm sóc thú cưng</td>\n      <td>NaN</td>\n    </tr>\n    <tr>\n      <th>4</th>\n      <td>Mèo</td>\n      <td>Mèo</td>\n      <td>Chăm sóc thú cưng</td>\n      <td>NaN</td>\n    </tr>\n  </tbody>\n</table>\n</div>",
            "text/plain": "   Level 3  Level 2            Level 1   le\n0       Cá       Cá  Chăm sóc thú cưng  NaN\n1     Chim     Chim  Chăm sóc thú cưng  NaN\n2      Chó      Chó  Chăm sóc thú cưng  NaN\n3  Hamster  Hamster  Chăm sóc thú cưng  NaN\n4      Mèo      Mèo  Chăm sóc thú cưng  NaN"
          },
          "metadata": {}
        }
      ]
    },
    {
      "metadata": {
        "trusted": true
      },
      "cell_type": "code",
      "source": "dl = dfl.drop(['le'], axis = 1)\ndl.head()",
      "execution_count": 4,
      "outputs": [
        {
          "output_type": "execute_result",
          "execution_count": 4,
          "data": {
            "text/html": "<div>\n<style scoped>\n    .dataframe tbody tr th:only-of-type {\n        vertical-align: middle;\n    }\n\n    .dataframe tbody tr th {\n        vertical-align: top;\n    }\n\n    .dataframe thead th {\n        text-align: right;\n    }\n</style>\n<table border=\"1\" class=\"dataframe\">\n  <thead>\n    <tr style=\"text-align: right;\">\n      <th></th>\n      <th>Level 3</th>\n      <th>Level 2</th>\n      <th>Level 1</th>\n    </tr>\n  </thead>\n  <tbody>\n    <tr>\n      <th>0</th>\n      <td>Cá</td>\n      <td>Cá</td>\n      <td>Chăm sóc thú cưng</td>\n    </tr>\n    <tr>\n      <th>1</th>\n      <td>Chim</td>\n      <td>Chim</td>\n      <td>Chăm sóc thú cưng</td>\n    </tr>\n    <tr>\n      <th>2</th>\n      <td>Chó</td>\n      <td>Chó</td>\n      <td>Chăm sóc thú cưng</td>\n    </tr>\n    <tr>\n      <th>3</th>\n      <td>Hamster</td>\n      <td>Hamster</td>\n      <td>Chăm sóc thú cưng</td>\n    </tr>\n    <tr>\n      <th>4</th>\n      <td>Mèo</td>\n      <td>Mèo</td>\n      <td>Chăm sóc thú cưng</td>\n    </tr>\n  </tbody>\n</table>\n</div>",
            "text/plain": "   Level 3  Level 2            Level 1\n0       Cá       Cá  Chăm sóc thú cưng\n1     Chim     Chim  Chăm sóc thú cưng\n2      Chó      Chó  Chăm sóc thú cưng\n3  Hamster  Hamster  Chăm sóc thú cưng\n4      Mèo      Mèo  Chăm sóc thú cưng"
          },
          "metadata": {}
        }
      ]
    },
    {
      "metadata": {
        "trusted": true
      },
      "cell_type": "code",
      "source": "name = input(\"name of product: \")\nproduct = name.lower()\nX = [product]\nprediction = model.predict(X)\nprint (prediction)",
      "execution_count": 12,
      "outputs": [
        {
          "output_type": "stream",
          "name": "stdout",
          "text": "name of product: sơ mi hoa dành cho nam\n['Tất, vớ nam']\n"
        }
      ]
    },
    {
      "metadata": {
        "trusted": true
      },
      "cell_type": "code",
      "source": "print (\"file phải có tên cột là product\")\nfilein = input(\"File input name : \")\nfileout = input(\"file output name : \")\ntest = pd.read_excel(filein)\nsents = test['product']\nsents = sents.str.lower()\nX = []\nfor sent in sents:\n    split = ViTokenizer.tokenize( str(sent))\n    print (split)\n    X.append(split)\npred = model.predict(X)\n#print (pred)\noutput = pd.DataFrame({'product':test['product'],'Level 3':pred})\n#output.head()\ndf = output.merge(dl)\ndf.to_csv(fileout,index=False)",
      "execution_count": 6,
      "outputs": [
        {
          "output_type": "stream",
          "text": "file phải có tên cột là product\nFile input name : Book1.xlsx\nfile output name : out.csv\ntẩy_da chết mặt bà_già lúa_mì\nkim_tuyến 18\nkem ủ trắng white conc\nson 3ce kem # taupe\nmask 7day\ncá diêu hồng chiên mắm xoài\nbàn vip poker\ngà_chọi ( 1 / 2 )\nquả giặt bồ_hòn nguyên quả\nsữa_chua dẻo - dứa\nsữa tắm double rich màu hồn\nmặt_nạ hàng ngày lululun mask\npalazzo no1\nqua km monte\ncosy 320g\nhoney silk skirt\náo sơ_mi epk sọc kẻ trắng_d\nsơ_mi psm1679 - cam - s\natpl tay dài losan basic đỏ\nmũ_lưỡi chai_da\n",
          "name": "stdout"
        }
      ]
    },
    {
      "metadata": {
        "trusted": true
      },
      "cell_type": "code",
      "source": "",
      "execution_count": null,
      "outputs": []
    }
  ],
  "metadata": {
    "kernelspec": {
      "name": "python36",
      "display_name": "Python 3.6",
      "language": "python"
    },
    "language_info": {
      "mimetype": "text/x-python",
      "nbconvert_exporter": "python",
      "name": "python",
      "pygments_lexer": "ipython3",
      "version": "3.6.6",
      "file_extension": ".py",
      "codemirror_mode": {
        "version": 3,
        "name": "ipython"
      }
    }
  },
  "nbformat": 4,
  "nbformat_minor": 2
}