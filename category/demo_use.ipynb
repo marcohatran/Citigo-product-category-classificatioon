{
  "cells": [
    {
      "metadata": {
        "trusted": true
      },
      "cell_type": "code",
      "source": "from sklearn.externals import joblib\nimport pandas as pd\nfrom pyvi import ViTokenizer",
      "execution_count": null,
      "outputs": []
    },
    {
      "metadata": {
        "trusted": true
      },
      "cell_type": "code",
      "source": "model = joblib.load('model.pkl')",
      "execution_count": null,
      "outputs": []
    },
    {
      "metadata": {
        "trusted": true
      },
      "cell_type": "code",
      "source": "dfl = pd.read_csv(\"list_2.csv\", encoding = \"utf-8\")\ndfl.head()",
      "execution_count": null,
      "outputs": []
    },
    {
      "metadata": {
        "trusted": true
      },
      "cell_type": "code",
      "source": "dl = dfl.drop(['le'], axis = 1)\ndl.head()",
      "execution_count": null,
      "outputs": []
    },
    {
      "metadata": {
        "trusted": true
      },
      "cell_type": "code",
      "source": "name = input(\"name of product: \")\nproduct = name.lower()\nX = [product]\nprediction = model.predict(X)\nprint (prediction)\n",
      "execution_count": null,
      "outputs": []
    },
    {
      "metadata": {
        "trusted": true
      },
      "cell_type": "code",
      "source": "print (\"file phải có tên cột là product\")\nfilein = input(\"File input name : \")\nfileout = input(\"file output name : \")\ntest = pd.read_excel(filein)\nsents = test['product']\nsents = sents.str.lower()\nX = []\nfor sent in sents:\n    split = ViTokenizer.tokenize( str(sent))\n    print (split)\n    X.append(split)\npred = model.predict(X)\n#print (pred)\noutput = pd.DataFrame({'product':test['product'],'Level 3':pred})\n#output.head()\ndf = output.merge(dl)\ndf.to_csv(fileout,index=False)",
      "execution_count": null,
      "outputs": []
    },
    {
      "metadata": {
        "trusted": true
      },
      "cell_type": "code",
      "source": "",
      "execution_count": null,
      "outputs": []
    }
  ],
  "metadata": {
    "kernelspec": {
      "name": "python36",
      "display_name": "Python 3.6",
      "language": "python"
    },
    "language_info": {
      "mimetype": "text/x-python",
      "nbconvert_exporter": "python",
      "name": "python",
      "pygments_lexer": "ipython3",
      "version": "3.6.6",
      "file_extension": ".py",
      "codemirror_mode": {
        "version": 3,
        "name": "ipython"
      }
    }
  },
  "nbformat": 4,
  "nbformat_minor": 2
}